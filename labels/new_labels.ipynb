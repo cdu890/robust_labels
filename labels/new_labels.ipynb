{
  "nbformat": 4,
  "nbformat_minor": 0,
  "metadata": {
    "colab": {
      "name": "new_labels.ipynb",
      "provenance": [],
      "toc_visible": true,
      "collapsed_sections": []
    },
    "kernelspec": {
      "name": "python3",
      "display_name": "Python 3"
    },
    "language_info": {
      "name": "python"
    }
  },
  "cells": [
    {
      "cell_type": "markdown",
      "source": [
        "This file generates new labels for the entropy and overlap experiment."
      ],
      "metadata": {
        "id": "_-QixI_Y81dx"
      }
    },
    {
      "cell_type": "code",
      "execution_count": null,
      "metadata": {
        "id": "kSjseCgB1V-X"
      },
      "outputs": [],
      "source": [
        "import numpy as np\n",
        "from scipy.stats import entropy, kstest, uniform, ks_2samp\n",
        "import glob\n",
        "import os\n",
        "import pandas as pd\n",
        "import sys"
      ]
    },
    {
      "cell_type": "code",
      "source": [
        "from google.colab import drive\n",
        "drive.mount('/gdrive')"
      ],
      "metadata": {
        "colab": {
          "base_uri": "https://localhost:8080/"
        },
        "id": "Erby32zG1lfy",
        "outputId": "9e09ca6d-bcf4-4894-bf20-89f3c6de6171"
      },
      "execution_count": null,
      "outputs": [
        {
          "output_type": "stream",
          "name": "stdout",
          "text": [
            "Mounted at /gdrive\n"
          ]
        }
      ]
    },
    {
      "cell_type": "code",
      "source": [
        "root = '/gdrive/MyDrive/cifar10_resnet/original/label_representations/labels/label_files' \n",
        "os.chdir(root)"
      ],
      "metadata": {
        "id": "TFBYzctT1q7E"
      },
      "execution_count": null,
      "outputs": []
    },
    {
      "cell_type": "markdown",
      "source": [
        "## Computing Entropy, L1, L2"
      ],
      "metadata": {
        "id": "7dv34GQhMiy1"
      }
    },
    {
      "cell_type": "code",
      "source": [
        "sys.path.insert('../utils')\n",
        "from metrics import shannon_entropy, l1_l2, check_uniform, check_sim"
      ],
      "metadata": {
        "id": "MJgYvEV8LnbJ"
      },
      "execution_count": null,
      "outputs": []
    },
    {
      "cell_type": "code",
      "source": [
        "categorical = np.array([1,0,0,0,0,0,0,0,0,0])\n",
        "KS_stat, p = check_uniform(categorical)\n",
        "p"
      ],
      "metadata": {
        "colab": {
          "base_uri": "https://localhost:8080/"
        },
        "id": "qjm_RPTN0cOb",
        "outputId": "65d17fa3-0cbc-41c6-fc9d-d76a8c967abb"
      },
      "execution_count": null,
      "outputs": [
        {
          "output_type": "stream",
          "name": "stdout",
          "text": [
            "0 1\n"
          ]
        },
        {
          "output_type": "execute_result",
          "data": {
            "text/plain": [
              "1.9999999999999957e-10"
            ]
          },
          "metadata": {},
          "execution_count": 74
        }
      ]
    },
    {
      "cell_type": "code",
      "source": [
        "# original labels\n",
        "metrics_orig = pd.DataFrame(columns=['Label', 'Entropy', 'DEntropy', 'L1', 'DL1', 'L2', 'DL2'])\n",
        "metrics_orig.loc[len(metrics_orig.index)] = ['category', 0.47, 0.00,\n",
        "                                               1.41, 0.00, 2.00, 0.00]\n",
        "\n",
        "orig_dir = \"/gdrive/MyDrive/cifar10_resnet/original/label_representations/labels/label_files/cifar10/\"\n",
        "original = glob.glob(orig_dir + '*.npy')\n",
        "\n",
        "for file in original:\n",
        "  label = file.split('/')[-1].split('_')[-1][:-4]\n",
        "  array = np.load(file)\n",
        "\n",
        "  entropies = []\n",
        "\n",
        "  for i in range(10):\n",
        "    file_label = array[i]\n",
        "    entropies.append(shannon_entropy(file_label))\n",
        "  \n",
        "  l1, l2 = l1_l2(array)\n",
        "\n",
        "  metrics_orig.loc[len(metrics_orig.index)] = [label, np.mean(entropies), np.std(entropies),\n",
        "                                               np.mean(l1), np.std(l1), np.mean(l2), np.std(l2)]\n",
        "\n",
        "metrics_orig = metrics_orig.round(2)\n",
        "metrics_orig"
      ],
      "metadata": {
        "colab": {
          "base_uri": "https://localhost:8080/",
          "height": 331
        },
        "id": "u1CF6jJdQSgL",
        "outputId": "6ad418b2-8041-4a54-c1ad-1c43f4299169"
      },
      "execution_count": null,
      "outputs": [
        {
          "output_type": "execute_result",
          "data": {
            "text/plain": [
              "       Label  Entropy  DEntropy     L1    DL1     L2    DL2\n",
              "0   category     0.47      0.00   1.41   0.00   2.00   0.00\n",
              "1       bert    11.05      0.03   5.72   0.95   2.06   0.24\n",
              "2  composite    12.00      0.00  24.06   3.36  14.12   1.72\n",
              "3      glove     5.64      0.00   7.35   1.69   1.30   0.31\n",
              "4     lowdim     3.32      0.00   3.41   0.77   1.30   0.25\n",
              "5     random    12.00      0.00  25.82   0.94   6.35   0.16\n",
              "6    shuffle    11.35      0.35  35.26   2.16  15.61   1.44\n",
              "7     speech    11.35      0.35  23.79   5.15   9.76   2.39\n",
              "8    uniform     0.00      0.00  26.07  15.72  26.07  15.72"
            ],
            "text/html": [
              "\n",
              "  <div id=\"df-89164824-f0a8-4c4b-8f7b-1e25726b6b71\">\n",
              "    <div class=\"colab-df-container\">\n",
              "      <div>\n",
              "<style scoped>\n",
              "    .dataframe tbody tr th:only-of-type {\n",
              "        vertical-align: middle;\n",
              "    }\n",
              "\n",
              "    .dataframe tbody tr th {\n",
              "        vertical-align: top;\n",
              "    }\n",
              "\n",
              "    .dataframe thead th {\n",
              "        text-align: right;\n",
              "    }\n",
              "</style>\n",
              "<table border=\"1\" class=\"dataframe\">\n",
              "  <thead>\n",
              "    <tr style=\"text-align: right;\">\n",
              "      <th></th>\n",
              "      <th>Label</th>\n",
              "      <th>Entropy</th>\n",
              "      <th>DEntropy</th>\n",
              "      <th>L1</th>\n",
              "      <th>DL1</th>\n",
              "      <th>L2</th>\n",
              "      <th>DL2</th>\n",
              "    </tr>\n",
              "  </thead>\n",
              "  <tbody>\n",
              "    <tr>\n",
              "      <th>0</th>\n",
              "      <td>category</td>\n",
              "      <td>0.47</td>\n",
              "      <td>0.00</td>\n",
              "      <td>1.41</td>\n",
              "      <td>0.00</td>\n",
              "      <td>2.00</td>\n",
              "      <td>0.00</td>\n",
              "    </tr>\n",
              "    <tr>\n",
              "      <th>1</th>\n",
              "      <td>bert</td>\n",
              "      <td>11.05</td>\n",
              "      <td>0.03</td>\n",
              "      <td>5.72</td>\n",
              "      <td>0.95</td>\n",
              "      <td>2.06</td>\n",
              "      <td>0.24</td>\n",
              "    </tr>\n",
              "    <tr>\n",
              "      <th>2</th>\n",
              "      <td>composite</td>\n",
              "      <td>12.00</td>\n",
              "      <td>0.00</td>\n",
              "      <td>24.06</td>\n",
              "      <td>3.36</td>\n",
              "      <td>14.12</td>\n",
              "      <td>1.72</td>\n",
              "    </tr>\n",
              "    <tr>\n",
              "      <th>3</th>\n",
              "      <td>glove</td>\n",
              "      <td>5.64</td>\n",
              "      <td>0.00</td>\n",
              "      <td>7.35</td>\n",
              "      <td>1.69</td>\n",
              "      <td>1.30</td>\n",
              "      <td>0.31</td>\n",
              "    </tr>\n",
              "    <tr>\n",
              "      <th>4</th>\n",
              "      <td>lowdim</td>\n",
              "      <td>3.32</td>\n",
              "      <td>0.00</td>\n",
              "      <td>3.41</td>\n",
              "      <td>0.77</td>\n",
              "      <td>1.30</td>\n",
              "      <td>0.25</td>\n",
              "    </tr>\n",
              "    <tr>\n",
              "      <th>5</th>\n",
              "      <td>random</td>\n",
              "      <td>12.00</td>\n",
              "      <td>0.00</td>\n",
              "      <td>25.82</td>\n",
              "      <td>0.94</td>\n",
              "      <td>6.35</td>\n",
              "      <td>0.16</td>\n",
              "    </tr>\n",
              "    <tr>\n",
              "      <th>6</th>\n",
              "      <td>shuffle</td>\n",
              "      <td>11.35</td>\n",
              "      <td>0.35</td>\n",
              "      <td>35.26</td>\n",
              "      <td>2.16</td>\n",
              "      <td>15.61</td>\n",
              "      <td>1.44</td>\n",
              "    </tr>\n",
              "    <tr>\n",
              "      <th>7</th>\n",
              "      <td>speech</td>\n",
              "      <td>11.35</td>\n",
              "      <td>0.35</td>\n",
              "      <td>23.79</td>\n",
              "      <td>5.15</td>\n",
              "      <td>9.76</td>\n",
              "      <td>2.39</td>\n",
              "    </tr>\n",
              "    <tr>\n",
              "      <th>8</th>\n",
              "      <td>uniform</td>\n",
              "      <td>0.00</td>\n",
              "      <td>0.00</td>\n",
              "      <td>26.07</td>\n",
              "      <td>15.72</td>\n",
              "      <td>26.07</td>\n",
              "      <td>15.72</td>\n",
              "    </tr>\n",
              "  </tbody>\n",
              "</table>\n",
              "</div>\n",
              "      <button class=\"colab-df-convert\" onclick=\"convertToInteractive('df-89164824-f0a8-4c4b-8f7b-1e25726b6b71')\"\n",
              "              title=\"Convert this dataframe to an interactive table.\"\n",
              "              style=\"display:none;\">\n",
              "        \n",
              "  <svg xmlns=\"http://www.w3.org/2000/svg\" height=\"24px\"viewBox=\"0 0 24 24\"\n",
              "       width=\"24px\">\n",
              "    <path d=\"M0 0h24v24H0V0z\" fill=\"none\"/>\n",
              "    <path d=\"M18.56 5.44l.94 2.06.94-2.06 2.06-.94-2.06-.94-.94-2.06-.94 2.06-2.06.94zm-11 1L8.5 8.5l.94-2.06 2.06-.94-2.06-.94L8.5 2.5l-.94 2.06-2.06.94zm10 10l.94 2.06.94-2.06 2.06-.94-2.06-.94-.94-2.06-.94 2.06-2.06.94z\"/><path d=\"M17.41 7.96l-1.37-1.37c-.4-.4-.92-.59-1.43-.59-.52 0-1.04.2-1.43.59L10.3 9.45l-7.72 7.72c-.78.78-.78 2.05 0 2.83L4 21.41c.39.39.9.59 1.41.59.51 0 1.02-.2 1.41-.59l7.78-7.78 2.81-2.81c.8-.78.8-2.07 0-2.86zM5.41 20L4 18.59l7.72-7.72 1.47 1.35L5.41 20z\"/>\n",
              "  </svg>\n",
              "      </button>\n",
              "      \n",
              "  <style>\n",
              "    .colab-df-container {\n",
              "      display:flex;\n",
              "      flex-wrap:wrap;\n",
              "      gap: 12px;\n",
              "    }\n",
              "\n",
              "    .colab-df-convert {\n",
              "      background-color: #E8F0FE;\n",
              "      border: none;\n",
              "      border-radius: 50%;\n",
              "      cursor: pointer;\n",
              "      display: none;\n",
              "      fill: #1967D2;\n",
              "      height: 32px;\n",
              "      padding: 0 0 0 0;\n",
              "      width: 32px;\n",
              "    }\n",
              "\n",
              "    .colab-df-convert:hover {\n",
              "      background-color: #E2EBFA;\n",
              "      box-shadow: 0px 1px 2px rgba(60, 64, 67, 0.3), 0px 1px 3px 1px rgba(60, 64, 67, 0.15);\n",
              "      fill: #174EA6;\n",
              "    }\n",
              "\n",
              "    [theme=dark] .colab-df-convert {\n",
              "      background-color: #3B4455;\n",
              "      fill: #D2E3FC;\n",
              "    }\n",
              "\n",
              "    [theme=dark] .colab-df-convert:hover {\n",
              "      background-color: #434B5C;\n",
              "      box-shadow: 0px 1px 3px 1px rgba(0, 0, 0, 0.15);\n",
              "      filter: drop-shadow(0px 1px 2px rgba(0, 0, 0, 0.3));\n",
              "      fill: #FFFFFF;\n",
              "    }\n",
              "  </style>\n",
              "\n",
              "      <script>\n",
              "        const buttonEl =\n",
              "          document.querySelector('#df-89164824-f0a8-4c4b-8f7b-1e25726b6b71 button.colab-df-convert');\n",
              "        buttonEl.style.display =\n",
              "          google.colab.kernel.accessAllowed ? 'block' : 'none';\n",
              "\n",
              "        async function convertToInteractive(key) {\n",
              "          const element = document.querySelector('#df-89164824-f0a8-4c4b-8f7b-1e25726b6b71');\n",
              "          const dataTable =\n",
              "            await google.colab.kernel.invokeFunction('convertToInteractive',\n",
              "                                                     [key], {});\n",
              "          if (!dataTable) return;\n",
              "\n",
              "          const docLinkHtml = 'Like what you see? Visit the ' +\n",
              "            '<a target=\"_blank\" href=https://colab.research.google.com/notebooks/data_table.ipynb>data table notebook</a>'\n",
              "            + ' to learn more about interactive tables.';\n",
              "          element.innerHTML = '';\n",
              "          dataTable['output_type'] = 'display_data';\n",
              "          await google.colab.output.renderOutput(dataTable, element);\n",
              "          const docLink = document.createElement('div');\n",
              "          docLink.innerHTML = docLinkHtml;\n",
              "          element.appendChild(docLink);\n",
              "        }\n",
              "      </script>\n",
              "    </div>\n",
              "  </div>\n",
              "  "
            ]
          },
          "metadata": {},
          "execution_count": 15
        }
      ]
    },
    {
      "cell_type": "code",
      "source": [
        "metrics_orig = pd.DataFrame({c: metrics_orig.filter(like=c).astype(str).apply('±'.join, 1) \n",
        "                         for c in metrics_orig.columns.str[-1].unique()})\n",
        "metrics_orig.columns = ['Label', 'Entropy', 'L1', 'L2']\n",
        "metrics_orig"
      ],
      "metadata": {
        "colab": {
          "base_uri": "https://localhost:8080/",
          "height": 331
        },
        "id": "GD39HlfsGlvQ",
        "outputId": "d8f4ed08-c7a3-4d2e-a8e3-9c12d40302da"
      },
      "execution_count": null,
      "outputs": [
        {
          "output_type": "execute_result",
          "data": {
            "text/plain": [
              "       Label     Entropy           L1           L2\n",
              "0   category    0.47±0.0     1.41±0.0      2.0±0.0\n",
              "1       bert  11.05±0.03    5.72±0.95    2.06±0.24\n",
              "2  composite    12.0±0.0   24.06±3.36   14.12±1.72\n",
              "3      glove    5.64±0.0    7.35±1.69     1.3±0.31\n",
              "4     lowdim    3.32±0.0    3.41±0.77     1.3±0.25\n",
              "5     random    12.0±0.0   25.82±0.94    6.35±0.16\n",
              "6    shuffle  11.35±0.35   35.26±2.16   15.61±1.44\n",
              "7     speech  11.35±0.35   23.79±5.15    9.76±2.39\n",
              "8    uniform     0.0±0.0  26.07±15.72  26.07±15.72"
            ],
            "text/html": [
              "\n",
              "  <div id=\"df-421133ea-200a-4ebe-b0d8-4bf45554b192\">\n",
              "    <div class=\"colab-df-container\">\n",
              "      <div>\n",
              "<style scoped>\n",
              "    .dataframe tbody tr th:only-of-type {\n",
              "        vertical-align: middle;\n",
              "    }\n",
              "\n",
              "    .dataframe tbody tr th {\n",
              "        vertical-align: top;\n",
              "    }\n",
              "\n",
              "    .dataframe thead th {\n",
              "        text-align: right;\n",
              "    }\n",
              "</style>\n",
              "<table border=\"1\" class=\"dataframe\">\n",
              "  <thead>\n",
              "    <tr style=\"text-align: right;\">\n",
              "      <th></th>\n",
              "      <th>Label</th>\n",
              "      <th>Entropy</th>\n",
              "      <th>L1</th>\n",
              "      <th>L2</th>\n",
              "    </tr>\n",
              "  </thead>\n",
              "  <tbody>\n",
              "    <tr>\n",
              "      <th>0</th>\n",
              "      <td>category</td>\n",
              "      <td>0.47±0.0</td>\n",
              "      <td>1.41±0.0</td>\n",
              "      <td>2.0±0.0</td>\n",
              "    </tr>\n",
              "    <tr>\n",
              "      <th>1</th>\n",
              "      <td>bert</td>\n",
              "      <td>11.05±0.03</td>\n",
              "      <td>5.72±0.95</td>\n",
              "      <td>2.06±0.24</td>\n",
              "    </tr>\n",
              "    <tr>\n",
              "      <th>2</th>\n",
              "      <td>composite</td>\n",
              "      <td>12.0±0.0</td>\n",
              "      <td>24.06±3.36</td>\n",
              "      <td>14.12±1.72</td>\n",
              "    </tr>\n",
              "    <tr>\n",
              "      <th>3</th>\n",
              "      <td>glove</td>\n",
              "      <td>5.64±0.0</td>\n",
              "      <td>7.35±1.69</td>\n",
              "      <td>1.3±0.31</td>\n",
              "    </tr>\n",
              "    <tr>\n",
              "      <th>4</th>\n",
              "      <td>lowdim</td>\n",
              "      <td>3.32±0.0</td>\n",
              "      <td>3.41±0.77</td>\n",
              "      <td>1.3±0.25</td>\n",
              "    </tr>\n",
              "    <tr>\n",
              "      <th>5</th>\n",
              "      <td>random</td>\n",
              "      <td>12.0±0.0</td>\n",
              "      <td>25.82±0.94</td>\n",
              "      <td>6.35±0.16</td>\n",
              "    </tr>\n",
              "    <tr>\n",
              "      <th>6</th>\n",
              "      <td>shuffle</td>\n",
              "      <td>11.35±0.35</td>\n",
              "      <td>35.26±2.16</td>\n",
              "      <td>15.61±1.44</td>\n",
              "    </tr>\n",
              "    <tr>\n",
              "      <th>7</th>\n",
              "      <td>speech</td>\n",
              "      <td>11.35±0.35</td>\n",
              "      <td>23.79±5.15</td>\n",
              "      <td>9.76±2.39</td>\n",
              "    </tr>\n",
              "    <tr>\n",
              "      <th>8</th>\n",
              "      <td>uniform</td>\n",
              "      <td>0.0±0.0</td>\n",
              "      <td>26.07±15.72</td>\n",
              "      <td>26.07±15.72</td>\n",
              "    </tr>\n",
              "  </tbody>\n",
              "</table>\n",
              "</div>\n",
              "      <button class=\"colab-df-convert\" onclick=\"convertToInteractive('df-421133ea-200a-4ebe-b0d8-4bf45554b192')\"\n",
              "              title=\"Convert this dataframe to an interactive table.\"\n",
              "              style=\"display:none;\">\n",
              "        \n",
              "  <svg xmlns=\"http://www.w3.org/2000/svg\" height=\"24px\"viewBox=\"0 0 24 24\"\n",
              "       width=\"24px\">\n",
              "    <path d=\"M0 0h24v24H0V0z\" fill=\"none\"/>\n",
              "    <path d=\"M18.56 5.44l.94 2.06.94-2.06 2.06-.94-2.06-.94-.94-2.06-.94 2.06-2.06.94zm-11 1L8.5 8.5l.94-2.06 2.06-.94-2.06-.94L8.5 2.5l-.94 2.06-2.06.94zm10 10l.94 2.06.94-2.06 2.06-.94-2.06-.94-.94-2.06-.94 2.06-2.06.94z\"/><path d=\"M17.41 7.96l-1.37-1.37c-.4-.4-.92-.59-1.43-.59-.52 0-1.04.2-1.43.59L10.3 9.45l-7.72 7.72c-.78.78-.78 2.05 0 2.83L4 21.41c.39.39.9.59 1.41.59.51 0 1.02-.2 1.41-.59l7.78-7.78 2.81-2.81c.8-.78.8-2.07 0-2.86zM5.41 20L4 18.59l7.72-7.72 1.47 1.35L5.41 20z\"/>\n",
              "  </svg>\n",
              "      </button>\n",
              "      \n",
              "  <style>\n",
              "    .colab-df-container {\n",
              "      display:flex;\n",
              "      flex-wrap:wrap;\n",
              "      gap: 12px;\n",
              "    }\n",
              "\n",
              "    .colab-df-convert {\n",
              "      background-color: #E8F0FE;\n",
              "      border: none;\n",
              "      border-radius: 50%;\n",
              "      cursor: pointer;\n",
              "      display: none;\n",
              "      fill: #1967D2;\n",
              "      height: 32px;\n",
              "      padding: 0 0 0 0;\n",
              "      width: 32px;\n",
              "    }\n",
              "\n",
              "    .colab-df-convert:hover {\n",
              "      background-color: #E2EBFA;\n",
              "      box-shadow: 0px 1px 2px rgba(60, 64, 67, 0.3), 0px 1px 3px 1px rgba(60, 64, 67, 0.15);\n",
              "      fill: #174EA6;\n",
              "    }\n",
              "\n",
              "    [theme=dark] .colab-df-convert {\n",
              "      background-color: #3B4455;\n",
              "      fill: #D2E3FC;\n",
              "    }\n",
              "\n",
              "    [theme=dark] .colab-df-convert:hover {\n",
              "      background-color: #434B5C;\n",
              "      box-shadow: 0px 1px 3px 1px rgba(0, 0, 0, 0.15);\n",
              "      filter: drop-shadow(0px 1px 2px rgba(0, 0, 0, 0.3));\n",
              "      fill: #FFFFFF;\n",
              "    }\n",
              "  </style>\n",
              "\n",
              "      <script>\n",
              "        const buttonEl =\n",
              "          document.querySelector('#df-421133ea-200a-4ebe-b0d8-4bf45554b192 button.colab-df-convert');\n",
              "        buttonEl.style.display =\n",
              "          google.colab.kernel.accessAllowed ? 'block' : 'none';\n",
              "\n",
              "        async function convertToInteractive(key) {\n",
              "          const element = document.querySelector('#df-421133ea-200a-4ebe-b0d8-4bf45554b192');\n",
              "          const dataTable =\n",
              "            await google.colab.kernel.invokeFunction('convertToInteractive',\n",
              "                                                     [key], {});\n",
              "          if (!dataTable) return;\n",
              "\n",
              "          const docLinkHtml = 'Like what you see? Visit the ' +\n",
              "            '<a target=\"_blank\" href=https://colab.research.google.com/notebooks/data_table.ipynb>data table notebook</a>'\n",
              "            + ' to learn more about interactive tables.';\n",
              "          element.innerHTML = '';\n",
              "          dataTable['output_type'] = 'display_data';\n",
              "          await google.colab.output.renderOutput(dataTable, element);\n",
              "          const docLink = document.createElement('div');\n",
              "          docLink.innerHTML = docLinkHtml;\n",
              "          element.appendChild(docLink);\n",
              "        }\n",
              "      </script>\n",
              "    </div>\n",
              "  </div>\n",
              "  "
            ]
          },
          "metadata": {},
          "execution_count": 17
        }
      ]
    },
    {
      "cell_type": "code",
      "source": [
        "print(metrics_orig.to_latex(index=False))"
      ],
      "metadata": {
        "colab": {
          "base_uri": "https://localhost:8080/"
        },
        "id": "gMB7-CNGIir2",
        "outputId": "3cf3cb0b-8a70-4550-97a2-acd98f2a00d2"
      },
      "execution_count": null,
      "outputs": [
        {
          "output_type": "stream",
          "name": "stdout",
          "text": [
            "\\begin{tabular}{llll}\n",
            "\\toprule\n",
            "    Label &    Entropy &          L1 &          L2 \\\\\n",
            "\\midrule\n",
            " category &   0.47±0.0 &    1.41±0.0 &     2.0±0.0 \\\\\n",
            "     bert & 11.05±0.03 &   5.72±0.95 &   2.06±0.24 \\\\\n",
            "composite &   12.0±0.0 &  24.06±3.36 &  14.12±1.72 \\\\\n",
            "    glove &   5.64±0.0 &   7.35±1.69 &    1.3±0.31 \\\\\n",
            "   lowdim &   3.32±0.0 &   3.41±0.77 &    1.3±0.25 \\\\\n",
            "   random &   12.0±0.0 &  25.82±0.94 &   6.35±0.16 \\\\\n",
            "  shuffle & 11.35±0.35 &  35.26±2.16 &  15.61±1.44 \\\\\n",
            "   speech & 11.35±0.35 &  23.79±5.15 &   9.76±2.39 \\\\\n",
            "  uniform &    0.0±0.0 & 26.07±15.72 & 26.07±15.72 \\\\\n",
            "\\bottomrule\n",
            "\\end{tabular}\n",
            "\n"
          ]
        }
      ]
    },
    {
      "cell_type": "code",
      "source": [
        "# new labels\n",
        "\n",
        "new_dir = \"/gdrive/MyDrive/cifar10_resnet/original/label_representations/labels/label_files/new/\"\n",
        "new = glob.glob(new_dir + '*.npy')\n",
        "\n",
        "for file in new:\n",
        "  print(file.split('/')[-1])\n",
        "  file = np.load(file)\n",
        "  entropies = []\n",
        "  sim = []\n",
        "  print(file.shape)\n",
        "  for i in range(10):\n",
        "    file_label = file[i]\n",
        "    entropies.append(shannon_entropy(file_label))\n",
        "    sim.append(KL_uniform(file_label))\n",
        "  print(f\"Entropy: {np.mean(entropies)} - SD: {np.std(entropies)}\",)\n",
        "  print(f\"KL: {np.mean(sim)} - SD: {np.std(sim)}\",)\n",
        "  print()"
      ],
      "metadata": {
        "colab": {
          "base_uri": "https://localhost:8080/"
        },
        "id": "S6ttWh6v3BEd",
        "outputId": "53a01306-adcd-4622-f7ed-7b2f1326d01e"
      },
      "execution_count": null,
      "outputs": [
        {
          "output_type": "stream",
          "name": "stdout",
          "text": [
            "cifar10_normal_dim=1.npy\n",
            "(10, 1)\n",
            "Entropy: 0.0 - SD: 0.0\n",
            "KL: 0.0 - SD: 0.0\n",
            "\n",
            "cifar10_normal_dim=5.npy\n",
            "(10, 5)\n",
            "Entropy: 2.3219280948873626 - SD: 0.0\n",
            "KL: 0.0 - SD: 0.0\n",
            "\n",
            "cifar10_normal_dim=10.npy\n",
            "(10, 10)\n",
            "Entropy: 3.3219280948873626 - SD: 4.440892098500626e-16\n",
            "KL: 0.0 - SD: 0.0\n",
            "\n",
            "cifar10_normal_dim=30.npy\n",
            "(10, 30)\n",
            "Entropy: 4.906890595608518 - SD: 0.0\n",
            "KL: 0.0 - SD: 0.0\n",
            "\n",
            "cifar10_normal_dim=50.npy\n",
            "(10, 50)\n",
            "Entropy: 5.643856189774724 - SD: 0.0\n",
            "KL: 0.0 - SD: 0.0\n",
            "\n",
            "cifar10_normal_dim=100.npy\n",
            "(10, 100)\n",
            "Entropy: 6.6418561897747255 - SD: 0.005999999999999873\n",
            "KL: 0.0005500430304887956 - SD: 0.001650129091465426\n",
            "\n",
            "cifar10_normal_dim=200.npy\n",
            "(10, 200)\n",
            "Entropy: 7.643856189774726 - SD: 0.0\n",
            "KL: 3.2034265038149176e-16 - SD: 4.930380657631324e-32\n",
            "\n",
            "cifar10_normal_dim=500.npy\n",
            "(10, 500)\n",
            "Entropy: 8.963384284662082 - SD: 0.0026532998322840273\n",
            "KL: 0.0006664530106681262 - SD: 0.0007362102486009177\n",
            "\n",
            "cifar10_normal_dim=1000.npy\n",
            "(10, 1000)\n",
            "Entropy: 9.961584284662084 - SD: 0.003515679166249209\n",
            "KL: 0.0011649151076227077 - SD: 0.0009731701878770437\n",
            "\n",
            "cifar10_normal_dim=2000.npy\n",
            "(10, 2000)\n",
            "Entropy: 10.959984284662081 - SD: 0.0020880613017819224\n",
            "KL: 0.0016093153524701785 - SD: 0.0005776164227412376\n",
            "\n",
            "cifar10_normal_dim=4000.npy\n",
            "(10, 4000)\n",
            "Entropy: 11.955015412474529 - SD: 0.0016582077007199734\n",
            "KL: 0.002992958568024554 - SD: 0.0004444120481784144\n",
            "\n"
          ]
        }
      ]
    },
    {
      "cell_type": "markdown",
      "source": [
        "## Label 1: Varying entropy labels"
      ],
      "metadata": {
        "id": "YDi8JK1MALXb"
      }
    },
    {
      "cell_type": "markdown",
      "source": [
        "These will have varying dimensions and will be generated from the normal distribution with mean equal to the label number and sd = 0.1."
      ],
      "metadata": {
        "id": "prv39MUPTgN4"
      }
    },
    {
      "cell_type": "code",
      "source": [
        "dimensions = [1,5,10,30,50,100,200,500,1000,2000,4000]\n",
        "\n",
        "for dim in dimensions:\n",
        "  entropies = []\n",
        "  labels = np.empty((10,dim))\n",
        "\n",
        "  for i in range(10):\n",
        "    label = np.random.normal(i, 0.1, dim)\n",
        "    labels[i] = label\n",
        "    entropies.append(entropy(label.flatten(),base=2))\n",
        "\n",
        "  print(entropies)\n",
        "  np.save(root + f\"/normal_dim={dim}.npy\", labels)"
      ],
      "metadata": {
        "colab": {
          "base_uri": "https://localhost:8080/"
        },
        "id": "3vCyZkdcYtJ3",
        "outputId": "a6b96490-32b3-49df-a5b7-ed3d12517a90"
      },
      "execution_count": null,
      "outputs": [
        {
          "output_type": "stream",
          "name": "stdout",
          "text": [
            "[0.0, 0.0, 0.0, 0.0, 0.0, 0.0, 0.0, 0.0, 0.0, 0.0]\n",
            "[-inf, 2.3195557553999593, 2.318284455225702, 2.321254995063744, 2.321681400082231, 2.3217355707665948, 2.3218265517930026, 2.3215878547348017, 2.3218309417558745, 2.3218840550899325]\n",
            "[-inf, 3.30865311016134, 3.320858167728647, 3.3217022014092943, 3.321420642537471, 3.321578610370663, 3.3215382450825626, 3.321849530020077, 3.3217547890275005, 3.3218383664152733]\n",
            "[-inf, 4.903118732417932, 4.905186073746717, 4.906191655476538, 4.906568094814119, 4.906624483879274, 4.906741176379339, 4.906757291719274, 4.906779833226277, 4.906757405829055]\n",
            "[-inf, 5.638967998223055, 5.64143146682877, 5.642820892290897, 5.643352186151011, 5.643658273818901, 5.643669097803942, 5.643705850920392, 5.64375621186414, 5.64373698995026]\n",
            "[-inf, 6.63515010611343, 6.64170939571531, 6.643223995447357, 6.643362072184557, 6.643567666715621, 6.643616814418813, 6.643709545446811, 6.643741928124448, 6.643766490405514]\n",
            "[-inf, 7.636710983325773, 7.642097234308782, 7.642913862400694, 7.6434424121917655, 7.643536327061165, 7.643656494990859, 7.643724072990115, 7.643749001728559, 7.643766860133029]\n",
            "[-inf, 8.958393601165762, 8.964009251646846, 8.965006296918402, 8.9653438047961, 8.96550033621329, 8.965584331443807, 8.965643531336623, 8.96569375712595, 8.965694246049388]\n",
            "[-inf, 9.95853386445786, 9.963997746308317, 9.965001958180283, 9.965371647931686, 9.96549013443605, 9.96560243346291, 9.965643264393735, 9.965669450909392, 9.965697737505538]\n",
            "[-inf, 10.95881569569756, 10.96389351522232, 10.964975782198872, 10.96535078220647, 10.965494062412313, 10.965576853688248, 10.965639817289473, 10.96567132531209, 10.965692625977189]\n",
            "[-inf, 11.958416594394139, 11.963990168703216, 11.964998383740758, 11.965335178050463, 11.965501593952286, 11.965586211375898, 11.965637758377676, 11.965671031998118, 11.965693804649858]\n"
          ]
        }
      ]
    },
    {
      "cell_type": "markdown",
      "source": [
        "## Label 2: Varying overlap across labels"
      ],
      "metadata": {
        "id": "DjdJ7UE10tqh"
      }
    },
    {
      "cell_type": "markdown",
      "source": [
        "The labels will have dimension 50, and drawn from the uniform distribution."
      ],
      "metadata": {
        "id": "Qxz4-8O0QVQZ"
      }
    },
    {
      "cell_type": "code",
      "source": [
        "import matplotlib.pyplot as plt"
      ],
      "metadata": {
        "id": "SxCp_MAZgRQ_"
      },
      "execution_count": null,
      "outputs": []
    },
    {
      "cell_type": "code",
      "source": [
        "gaps = [10,1,0.1,0]\n",
        "lb = 0\n",
        "ub = 9\n",
        "dim = 50\n",
        "\n",
        "label_dict = {}\n",
        "\n",
        "for gap in gaps:\n",
        "  labels = np.empty((10,dim))\n",
        "  for i in range(10):\n",
        "    labels[i] = np.random.uniform(low=lb+(i*gap), high=ub+(i*gap), size=dim)\n",
        "  label_dict[gap] = labels"
      ],
      "metadata": {
        "id": "FYInJsNA0sul"
      },
      "execution_count": null,
      "outputs": []
    },
    {
      "cell_type": "code",
      "source": [
        "for k,v in label_dict.items():\n",
        "  print(k)\n",
        "  entropies = []\n",
        "  name = \"gap=\" + str(k)\n",
        "  plt.title(name)\n",
        "  for i in range(10):\n",
        "    plt.hist(x=v[i].flatten(), bins='auto', alpha=0.7, rwidth=0.85)\n",
        "    entropies.append(shannon_entropy(v[i]))\n",
        "    #print(v[i])\n",
        "\n",
        "  print(np.mean(entropies), np.std(entropies))\n",
        "  plt.show()"
      ],
      "metadata": {
        "colab": {
          "base_uri": "https://localhost:8080/",
          "height": 1000
        },
        "id": "uyiWBz7AgC6x",
        "outputId": "616dfdd2-0902-423b-efc5-7afeaae54d9b"
      },
      "execution_count": null,
      "outputs": [
        {
          "output_type": "stream",
          "name": "stdout",
          "text": [
            "10\n",
            "5.643856189774724 0.0\n"
          ]
        },
        {
          "output_type": "display_data",
          "data": {
            "text/plain": [
              "<Figure size 432x288 with 1 Axes>"
            ],
            "image/png": "[encoded data removed]"
          },
          "metadata": {
            "needs_background": "light"
          }
        },
        {
          "output_type": "stream",
          "name": "stdout",
          "text": [
            "1\n",
            "5.643856189774724 0.0\n"
          ]
        },
        {
          "output_type": "display_data",
          "data": {
            "text/plain": [
              "<Figure size 432x288 with 1 Axes>"
            ],
            "image/png": "[encoded data removed]"
          },
          "metadata": {
            "needs_background": "light"
          }
        },
        {
          "output_type": "stream",
          "name": "stdout",
          "text": [
            "0.1\n",
            "5.643856189774724 0.0\n"
          ]
        },
        {
          "output_type": "display_data",
          "data": {
            "text/plain": [
              "<Figure size 432x288 with 1 Axes>"
            ],
            "image/png": "[encoded data removed]"
          },
          "metadata": {
            "needs_background": "light"
          }
        },
        {
          "output_type": "stream",
          "name": "stdout",
          "text": [
            "0\n",
            "5.643856189774724 0.0\n"
          ]
        },
        {
          "output_type": "display_data",
          "data": {
            "text/plain": [
              "<Figure size 432x288 with 1 Axes>"
            ],
            "image/png": "[encoded data removed]"
          },
          "metadata": {
            "needs_background": "light"
          }
        }
      ]
    },
    {
      "cell_type": "code",
      "source": [
        "% cd .."
      ],
      "metadata": {
        "colab": {
          "base_uri": "https://localhost:8080/"
        },
        "id": "KyQzuhS63YDI",
        "outputId": "b196d971-3d70-4d2d-fd4f-995024755360"
      },
      "execution_count": null,
      "outputs": [
        {
          "output_type": "stream",
          "name": "stdout",
          "text": [
            "/gdrive/.shortcut-targets-by-id/1c2LSqs3KLPC0GItMw4Fbh9nCUbujuKG_/cifar10_resnet/original/label_representations/labels\n"
          ]
        }
      ]
    },
    {
      "cell_type": "code",
      "source": [
        "dir = root + '/overlap/'\n",
        "for k,v in label_dict.items():\n",
        "  np.save(dir + f\"uniform_gap={k}.npy\", v)"
      ],
      "metadata": {
        "id": "M9C0-CULkCTW"
      },
      "execution_count": null,
      "outputs": []
    },
    {
      "cell_type": "code",
      "source": [
        "! python compute_entropy.py label_files/overlap"
      ],
      "metadata": {
        "colab": {
          "base_uri": "https://localhost:8080/"
        },
        "id": "SVXFm75d2MLB",
        "outputId": "e4cf8b44-7deb-4ddf-bb9a-0dbc8ec3f091"
      },
      "execution_count": null,
      "outputs": [
        {
          "output_type": "stream",
          "name": "stdout",
          "text": [
            "----------------------\n",
            "label_files/overlap/cifar10_uniform_gap=10.npy min: 0.0\n",
            "label_files/overlap/cifar10_uniform_gap=10.npy max: 1.0\n",
            "label_files/overlap/cifar10_uniform_gap=10.npy std: 0.29337225250763876\n",
            "label_files/overlap/cifar10_uniform_gap=10.npy entropy: 5.609509770139509\n",
            "label_files/overlap/cifar10_uniform_gap=10.npy entropy std: 0.08729732318979666\n",
            "label_files/overlap/cifar10_uniform_gap=10.npy average dist: 0.37291984939763995\n",
            "label_files/overlap/cifar10_uniform_gap=10.npy L2 dist: 18.645992469882\n",
            "label_files/overlap/cifar10_uniform_gap=10.npy L2 dist std: 11.250902473727322\n",
            "label_files/overlap/cifar10_uniform_gap=10.npy L1 dist: 2.6582612757748447\n",
            "label_files/overlap/cifar10_uniform_gap=10.npy L1 dist std: 1.5782782098269386\n",
            "label_files/overlap/cifar10_uniform_gap=10.npy shape: (10, 50)\n",
            "----------------------\n",
            "----------------------\n",
            "label_files/overlap/cifar10_uniform_gap=1.npy min: 0.0\n",
            "label_files/overlap/cifar10_uniform_gap=1.npy max: 1.0\n",
            "label_files/overlap/cifar10_uniform_gap=1.npy std: 0.22062517801377848\n",
            "label_files/overlap/cifar10_uniform_gap=1.npy entropy: 5.549060622846727\n",
            "label_files/overlap/cifar10_uniform_gap=1.npy entropy std: 0.06852572418841187\n",
            "label_files/overlap/cifar10_uniform_gap=1.npy average dist: 0.2611550525938985\n",
            "label_files/overlap/cifar10_uniform_gap=1.npy L2 dist: 13.057752629694923\n",
            "label_files/overlap/cifar10_uniform_gap=1.npy L2 dist std: 4.577628531973569\n",
            "label_files/overlap/cifar10_uniform_gap=1.npy L1 dist: 2.1711459882061774\n",
            "label_files/overlap/cifar10_uniform_gap=1.npy L1 dist std: 0.6598370828851896\n",
            "label_files/overlap/cifar10_uniform_gap=1.npy shape: (10, 50)\n",
            "----------------------\n",
            "----------------------\n",
            "label_files/overlap/cifar10_uniform_gap=0.1.npy min: 0.0\n",
            "label_files/overlap/cifar10_uniform_gap=0.1.npy max: 1.0\n",
            "label_files/overlap/cifar10_uniform_gap=0.1.npy std: 0.2620593248429427\n",
            "label_files/overlap/cifar10_uniform_gap=0.1.npy entropy: 5.428515514411608\n",
            "label_files/overlap/cifar10_uniform_gap=0.1.npy entropy std: 0.06539432570110847\n",
            "label_files/overlap/cifar10_uniform_gap=0.1.npy average dist: 0.3012961175860103\n",
            "label_files/overlap/cifar10_uniform_gap=0.1.npy L2 dist: 15.064805879300511\n",
            "label_files/overlap/cifar10_uniform_gap=0.1.npy L2 dist std: 1.3834234423798122\n",
            "label_files/overlap/cifar10_uniform_gap=0.1.npy L1 dist: 2.6152070883401666\n",
            "label_files/overlap/cifar10_uniform_gap=0.1.npy L1 dist std: 0.19429730550838828\n",
            "label_files/overlap/cifar10_uniform_gap=0.1.npy shape: (10, 50)\n",
            "----------------------\n",
            "----------------------\n",
            "label_files/overlap/cifar10_uniform_gap=0.npy min: 0.0\n",
            "label_files/overlap/cifar10_uniform_gap=0.npy max: 1.0\n",
            "label_files/overlap/cifar10_uniform_gap=0.npy std: 0.2850153352455166\n",
            "label_files/overlap/cifar10_uniform_gap=0.npy entropy: 5.380064496489227\n",
            "label_files/overlap/cifar10_uniform_gap=0.npy entropy std: 0.040736641383835544\n",
            "label_files/overlap/cifar10_uniform_gap=0.npy average dist: 0.3222363911193981\n",
            "label_files/overlap/cifar10_uniform_gap=0.npy L2 dist: 16.11181955596991\n",
            "label_files/overlap/cifar10_uniform_gap=0.npy L2 dist std: 1.5862087548114123\n",
            "label_files/overlap/cifar10_uniform_gap=0.npy L1 dist: 2.803708749461285\n",
            "label_files/overlap/cifar10_uniform_gap=0.npy L1 dist std: 0.2552539078462421\n",
            "label_files/overlap/cifar10_uniform_gap=0.npy shape: (10, 50)\n",
            "----------------------\n"
          ]
        }
      ]
    }
  ]
}