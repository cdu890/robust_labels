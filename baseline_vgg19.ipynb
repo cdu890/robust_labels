{
  "nbformat": 4,
  "nbformat_minor": 0,
  "metadata": {
    "colab": {
      "name": "baseline.ipynb",
      "provenance": [],
      "collapsed_sections": [],
      "machine_shape": "hm"
    },
    "kernelspec": {
      "name": "python3",
      "display_name": "Python 3"
    },
    "language_info": {
      "name": "python"
    },
    "accelerator": "GPU"
  },
  "cells": [
    {
      "cell_type": "markdown",
      "source": [
        "# Baseline Setup on VGG19\n",
        "\n",
        "Use this notebook to recreate the results of the original paper on the VGG19 network.\n",
        "\n",
        "**Note :** I am using the labels generated from earlier experiments done with Resnet32 models"
      ],
      "metadata": {
        "id": "l2u5-ppWbO2p"
      }
    },
    {
      "cell_type": "code",
      "source": [
        "import os\n",
        "import time\n",
        "from google.colab import drive\n",
        "\n",
        "drive.mount('/gdrive')"
      ],
      "metadata": {
        "colab": {
          "base_uri": "https://localhost:8080/"
        },
        "id": "1dDaTCJBbjqA",
        "outputId": "5c454891-bad0-4e1c-d3d2-895fdd7e1f30"
      },
      "execution_count": 2,
      "outputs": [
        {
          "output_type": "stream",
          "name": "stdout",
          "text": [
            "Drive already mounted at /gdrive; to attempt to forcibly remount, call drive.mount(\"/gdrive\", force_remount=True).\n"
          ]
        }
      ]
    },
    {
      "cell_type": "code",
      "source": [
        "! nvidia-smi"
      ],
      "metadata": {
        "id": "cby6uFcgjvKG"
      },
      "execution_count": null,
      "outputs": []
    },
    {
      "cell_type": "code",
      "source": [
        "# install dependencies\n",
        "! pip install torchtoolbox"
      ],
      "metadata": {
        "colab": {
          "base_uri": "https://localhost:8080/"
        },
        "id": "4YF8m8tictEa",
        "outputId": "eb116af2-c909-489c-f1ae-6f1c2d8314b0"
      },
      "execution_count": 3,
      "outputs": [
        {
          "output_type": "stream",
          "name": "stdout",
          "text": [
            "Collecting torchtoolbox\n",
            "  Downloading torchtoolbox-0.1.8.2-py3-none-any.whl (84 kB)\n",
            "\u001b[?25l\r\u001b[K     |███▉                            | 10 kB 36.9 MB/s eta 0:00:01\r\u001b[K     |███████▊                        | 20 kB 7.7 MB/s eta 0:00:01\r\u001b[K     |███████████▋                    | 30 kB 7.0 MB/s eta 0:00:01\r\u001b[K     |███████████████▍                | 40 kB 3.4 MB/s eta 0:00:01\r\u001b[K     |███████████████████▎            | 51 kB 3.4 MB/s eta 0:00:01\r\u001b[K     |███████████████████████▏        | 61 kB 4.1 MB/s eta 0:00:01\r\u001b[K     |███████████████████████████     | 71 kB 4.3 MB/s eta 0:00:01\r\u001b[K     |██████████████████████████████▉ | 81 kB 4.7 MB/s eta 0:00:01\r\u001b[K     |████████████████████████████████| 84 kB 2.5 MB/s \n",
            "\u001b[?25hRequirement already satisfied: numpy in /usr/local/lib/python3.7/dist-packages (from torchtoolbox) (1.21.6)\n",
            "Requirement already satisfied: tqdm in /usr/local/lib/python3.7/dist-packages (from torchtoolbox) (4.64.0)\n",
            "Requirement already satisfied: pyyaml in /usr/local/lib/python3.7/dist-packages (from torchtoolbox) (3.13)\n",
            "Requirement already satisfied: pyarrow in /usr/local/lib/python3.7/dist-packages (from torchtoolbox) (6.0.1)\n",
            "Requirement already satisfied: prettytable in /usr/local/lib/python3.7/dist-packages (from torchtoolbox) (3.2.0)\n",
            "Requirement already satisfied: scipy in /usr/local/lib/python3.7/dist-packages (from torchtoolbox) (1.4.1)\n",
            "Requirement already satisfied: scikit-learn in /usr/local/lib/python3.7/dist-packages (from torchtoolbox) (1.0.2)\n",
            "Requirement already satisfied: six in /usr/local/lib/python3.7/dist-packages (from torchtoolbox) (1.15.0)\n",
            "Requirement already satisfied: tensorboard in /usr/local/lib/python3.7/dist-packages (from torchtoolbox) (2.8.0)\n",
            "Requirement already satisfied: lmdb in /usr/local/lib/python3.7/dist-packages (from torchtoolbox) (0.99)\n",
            "Collecting transformers\n",
            "  Downloading transformers-4.18.0-py3-none-any.whl (4.0 MB)\n",
            "\u001b[K     |████████████████████████████████| 4.0 MB 23.2 MB/s \n",
            "\u001b[?25hRequirement already satisfied: opencv-python in /usr/local/lib/python3.7/dist-packages (from torchtoolbox) (4.1.2.30)\n",
            "Requirement already satisfied: importlib-metadata in /usr/local/lib/python3.7/dist-packages (from prettytable->torchtoolbox) (4.11.3)\n",
            "Requirement already satisfied: wcwidth in /usr/local/lib/python3.7/dist-packages (from prettytable->torchtoolbox) (0.2.5)\n",
            "Requirement already satisfied: typing-extensions>=3.6.4 in /usr/local/lib/python3.7/dist-packages (from importlib-metadata->prettytable->torchtoolbox) (4.2.0)\n",
            "Requirement already satisfied: zipp>=0.5 in /usr/local/lib/python3.7/dist-packages (from importlib-metadata->prettytable->torchtoolbox) (3.8.0)\n",
            "Requirement already satisfied: joblib>=0.11 in /usr/local/lib/python3.7/dist-packages (from scikit-learn->torchtoolbox) (1.1.0)\n",
            "Requirement already satisfied: threadpoolctl>=2.0.0 in /usr/local/lib/python3.7/dist-packages (from scikit-learn->torchtoolbox) (3.1.0)\n",
            "Requirement already satisfied: markdown>=2.6.8 in /usr/local/lib/python3.7/dist-packages (from tensorboard->torchtoolbox) (3.3.6)\n",
            "Requirement already satisfied: absl-py>=0.4 in /usr/local/lib/python3.7/dist-packages (from tensorboard->torchtoolbox) (1.0.0)\n",
            "Requirement already satisfied: setuptools>=41.0.0 in /usr/local/lib/python3.7/dist-packages (from tensorboard->torchtoolbox) (57.4.0)\n",
            "Requirement already satisfied: grpcio>=1.24.3 in /usr/local/lib/python3.7/dist-packages (from tensorboard->torchtoolbox) (1.44.0)\n",
            "Requirement already satisfied: tensorboard-data-server<0.7.0,>=0.6.0 in /usr/local/lib/python3.7/dist-packages (from tensorboard->torchtoolbox) (0.6.1)\n",
            "Requirement already satisfied: werkzeug>=0.11.15 in /usr/local/lib/python3.7/dist-packages (from tensorboard->torchtoolbox) (1.0.1)\n",
            "Requirement already satisfied: wheel>=0.26 in /usr/local/lib/python3.7/dist-packages (from tensorboard->torchtoolbox) (0.37.1)\n",
            "Requirement already satisfied: google-auth-oauthlib<0.5,>=0.4.1 in /usr/local/lib/python3.7/dist-packages (from tensorboard->torchtoolbox) (0.4.6)\n",
            "Requirement already satisfied: tensorboard-plugin-wit>=1.6.0 in /usr/local/lib/python3.7/dist-packages (from tensorboard->torchtoolbox) (1.8.1)\n",
            "Requirement already satisfied: google-auth<3,>=1.6.3 in /usr/local/lib/python3.7/dist-packages (from tensorboard->torchtoolbox) (1.35.0)\n",
            "Requirement already satisfied: requests<3,>=2.21.0 in /usr/local/lib/python3.7/dist-packages (from tensorboard->torchtoolbox) (2.23.0)\n",
            "Requirement already satisfied: protobuf>=3.6.0 in /usr/local/lib/python3.7/dist-packages (from tensorboard->torchtoolbox) (3.17.3)\n",
            "Requirement already satisfied: pyasn1-modules>=0.2.1 in /usr/local/lib/python3.7/dist-packages (from google-auth<3,>=1.6.3->tensorboard->torchtoolbox) (0.2.8)\n",
            "Requirement already satisfied: cachetools<5.0,>=2.0.0 in /usr/local/lib/python3.7/dist-packages (from google-auth<3,>=1.6.3->tensorboard->torchtoolbox) (4.2.4)\n",
            "Requirement already satisfied: rsa<5,>=3.1.4 in /usr/local/lib/python3.7/dist-packages (from google-auth<3,>=1.6.3->tensorboard->torchtoolbox) (4.8)\n",
            "Requirement already satisfied: requests-oauthlib>=0.7.0 in /usr/local/lib/python3.7/dist-packages (from google-auth-oauthlib<0.5,>=0.4.1->tensorboard->torchtoolbox) (1.3.1)\n",
            "Requirement already satisfied: pyasn1<0.5.0,>=0.4.6 in /usr/local/lib/python3.7/dist-packages (from pyasn1-modules>=0.2.1->google-auth<3,>=1.6.3->tensorboard->torchtoolbox) (0.4.8)\n",
            "Requirement already satisfied: idna<3,>=2.5 in /usr/local/lib/python3.7/dist-packages (from requests<3,>=2.21.0->tensorboard->torchtoolbox) (2.10)\n",
            "Requirement already satisfied: chardet<4,>=3.0.2 in /usr/local/lib/python3.7/dist-packages (from requests<3,>=2.21.0->tensorboard->torchtoolbox) (3.0.4)\n",
            "Requirement already satisfied: certifi>=2017.4.17 in /usr/local/lib/python3.7/dist-packages (from requests<3,>=2.21.0->tensorboard->torchtoolbox) (2021.10.8)\n",
            "Requirement already satisfied: urllib3!=1.25.0,!=1.25.1,<1.26,>=1.21.1 in /usr/local/lib/python3.7/dist-packages (from requests<3,>=2.21.0->tensorboard->torchtoolbox) (1.24.3)\n",
            "Requirement already satisfied: oauthlib>=3.0.0 in /usr/local/lib/python3.7/dist-packages (from requests-oauthlib>=0.7.0->google-auth-oauthlib<0.5,>=0.4.1->tensorboard->torchtoolbox) (3.2.0)\n",
            "Requirement already satisfied: regex!=2019.12.17 in /usr/local/lib/python3.7/dist-packages (from transformers->torchtoolbox) (2019.12.20)\n",
            "Collecting sacremoses\n",
            "  Downloading sacremoses-0.0.53.tar.gz (880 kB)\n",
            "\u001b[K     |████████████████████████████████| 880 kB 57.4 MB/s \n",
            "\u001b[?25hCollecting huggingface-hub<1.0,>=0.1.0\n",
            "  Downloading huggingface_hub-0.5.1-py3-none-any.whl (77 kB)\n",
            "\u001b[K     |████████████████████████████████| 77 kB 7.7 MB/s \n",
            "\u001b[?25hCollecting tokenizers!=0.11.3,<0.13,>=0.11.1\n",
            "  Downloading tokenizers-0.12.1-cp37-cp37m-manylinux_2_12_x86_64.manylinux2010_x86_64.whl (6.6 MB)\n",
            "\u001b[K     |████████████████████████████████| 6.6 MB 57.0 MB/s \n",
            "\u001b[?25hRequirement already satisfied: packaging>=20.0 in /usr/local/lib/python3.7/dist-packages (from transformers->torchtoolbox) (21.3)\n",
            "Requirement already satisfied: filelock in /usr/local/lib/python3.7/dist-packages (from transformers->torchtoolbox) (3.6.0)\n",
            "Collecting pyyaml\n",
            "  Downloading PyYAML-6.0-cp37-cp37m-manylinux_2_5_x86_64.manylinux1_x86_64.manylinux_2_12_x86_64.manylinux2010_x86_64.whl (596 kB)\n",
            "\u001b[K     |████████████████████████████████| 596 kB 82.9 MB/s \n",
            "\u001b[?25hRequirement already satisfied: pyparsing!=3.0.5,>=2.0.2 in /usr/local/lib/python3.7/dist-packages (from packaging>=20.0->transformers->torchtoolbox) (3.0.8)\n",
            "Requirement already satisfied: click in /usr/local/lib/python3.7/dist-packages (from sacremoses->transformers->torchtoolbox) (7.1.2)\n",
            "Building wheels for collected packages: sacremoses\n",
            "  Building wheel for sacremoses (setup.py) ... \u001b[?25l\u001b[?25hdone\n",
            "  Created wheel for sacremoses: filename=sacremoses-0.0.53-py3-none-any.whl size=895260 sha256=4cfb5f870f13117e3862b77625e59e794eac7e8539d87a3923d635dcf596f261\n",
            "  Stored in directory: /root/.cache/pip/wheels/87/39/dd/a83eeef36d0bf98e7a4d1933a4ad2d660295a40613079bafc9\n",
            "Successfully built sacremoses\n",
            "Installing collected packages: pyyaml, tokenizers, sacremoses, huggingface-hub, transformers, torchtoolbox\n",
            "  Attempting uninstall: pyyaml\n",
            "    Found existing installation: PyYAML 3.13\n",
            "    Uninstalling PyYAML-3.13:\n",
            "      Successfully uninstalled PyYAML-3.13\n",
            "Successfully installed huggingface-hub-0.5.1 pyyaml-6.0 sacremoses-0.0.53 tokenizers-0.12.1 torchtoolbox-0.1.8.2 transformers-4.18.0\n"
          ]
        }
      ]
    },
    {
      "cell_type": "code",
      "source": [
        "# import dependencies\n",
        "from scipy.stats import entropy\n",
        "import numpy as np\n",
        "import matplotlib.pyplot as plt\n",
        "import glob\n",
        "from scipy.special import kl_div"
      ],
      "metadata": {
        "id": "lnqVEjjxrnol"
      },
      "execution_count": 4,
      "outputs": []
    },
    {
      "cell_type": "code",
      "source": [
        "# training parameters\n",
        "ROOT = '/gdrive/MyDrive/practical_deep_learning/project/cd3250_experiments'\n",
        "LABELS = '/labels/label_files'\n",
        "OUTPUTS = '/gdrive/MyDrive/practical_deep_learning/project/outputs'\n",
        "\n",
        "original = glob.glob(ROOT + LABELS + '/cifar10_original/*.npy')\n",
        "entropy = glob.glob(ROOT + LABELS + '/entropy/*.npy')"
      ],
      "metadata": {
        "id": "oBB0Dy3pq2UT"
      },
      "execution_count": 5,
      "outputs": []
    },
    {
      "cell_type": "markdown",
      "source": [
        "## Model Training\n",
        "\n",
        "Train the following baseline models. No noise is currently present in the labels.\n",
        "\n",
        "- Categorical Labels\n",
        "- High Dimentional Labels\n",
        "    - Speech\n",
        "    - Shuffled Speech\n",
        "    - Uniform Distribution\n",
        "    - Composite of Gaussians\n",
        "    - BERT Embeddings\n",
        "    - Random\n",
        "- Low Dimentional Labels\n",
        "- GloVe Embeddings\n"
      ],
      "metadata": {
        "id": "q-eKqeijeGct"
      }
    },
    {
      "cell_type": "markdown",
      "source": [
        "### Model Training - Categorical Labels\n",
        "\n",
        "Parameters\n",
        "- Model : `VGG19`\n",
        "- Dataset : CIFAR 10\n",
        "- Seed : 7\n",
        "- Model Save directory : `OUTPUT`"
      ],
      "metadata": {
        "id": "S77_Cj6QeuV4"
      }
    },
    {
      "cell_type": "code",
      "source": [
        "start = time.time()\n",
        "! python /gdrive/MyDrive/practical_deep_learning/project/original_experiments/train.py --model vgg19 --dataset cifar10 --seed 7 --label category --base_dir /gdrive/MyDrive/practical_deep_learning/project/outputs\n",
        "end = time.time()\n",
        "print(\"Time:\", end-start)"
      ],
      "metadata": {
        "colab": {
          "base_uri": "https://localhost:8080/"
        },
        "id": "eDXPjKhHxVYF",
        "outputId": "8f512a0a-8f70-4019-ce50-61f5d5ab80af"
      },
      "execution_count": 12,
      "outputs": [
        {
          "output_type": "stream",
          "name": "stdout",
          "text": [
            "Start training 100% cifar10 category model with manual seed 7 and model vgg19.\n",
            "Best model location: /gdrive/MyDrive/practical_deep_learning/project/outputs/cifar10/seed7/vgg19/model_category/category_seed7_vgg19_best_model.pth.\n",
            "Checkpoint location: /gdrive/MyDrive/practical_deep_learning/project/outputs/cifar10/seed7/vgg19/model_category/category_seed7_vgg19_checkpoint.pth.\n",
            "Log location: /gdrive/MyDrive/practical_deep_learning/project/outputs/log/cifar10_category_log.csv.\n",
            "Snapshots location: /gdrive/MyDrive/practical_deep_learning/project/outputs/cifar10/seed7/vgg19/model_category/snapshots\n",
            "Files already downloaded and verified\n",
            "Files already downloaded and verified\n",
            "Files already downloaded and verified\n",
            "Number of Epochs : 100\n",
            "/usr/local/lib/python3.7/dist-packages/torch/optim/lr_scheduler.py:156: UserWarning: The epoch parameter in `scheduler.step()` was not necessary and is being deprecated where possible. Please use `scheduler.step()` to step the scheduler. During the deprecation, if epoch is different from None, the closed form is used instead of the new chainable form, where available. Please open an issue if you are unable to replicate your use case: https://github.com/pytorch/pytorch/issues/new/choose.\n",
            "  warnings.warn(EPOCH_DEPRECATION_WARNING, UserWarning)\n",
            "Epoch 1 train loss 2.5305571976033123 | valid loss 2.0594279766082764 | valid acc 0.2116\n",
            "Saving new best checkpoint...\n",
            "Epoch 2 train loss 1.9824220030145212 | valid loss 1.9366320538520814 | valid acc 0.2592\n",
            "Saving new best checkpoint...\n",
            "Epoch 3 train loss 1.8713060593740507 | valid loss 1.8350900173187257 | valid acc 0.2718\n",
            "Saving new best checkpoint...\n",
            "Epoch 4 train loss 1.727498096498576 | valid loss 1.6708071279525756 | valid acc 0.342\n",
            "Saving new best checkpoint...\n",
            "Epoch 5 train loss 1.6053593609143386 | valid loss 1.6368395590782165 | valid acc 0.3746\n",
            "Saving new best checkpoint...\n",
            "Epoch 6 train loss 1.467895411293615 | valid loss 1.796986355781555 | valid acc 0.382\n",
            "Saving new best checkpoint...\n",
            "Epoch 7 train loss 1.336496560072357 | valid loss 1.2869454431533813 | valid acc 0.5262\n",
            "Saving new best checkpoint...\n",
            "Epoch 8 train loss 1.1828484897586433 | valid loss 1.141815377473831 | valid acc 0.605\n",
            "Saving new best checkpoint...\n",
            "Epoch 9 train loss 1.050652203065428 | valid loss 1.0796253621578216 | valid acc 0.6302\n",
            "Saving new best checkpoint...\n",
            "Epoch 10 train loss 0.9422105682844465 | valid loss 0.9510059261322021 | valid acc 0.6706\n",
            "Saving new best checkpoint...\n",
            "Epoch 11 train loss 0.8549251581796191 | valid loss 1.048857901096344 | valid acc 0.6696\n",
            "Epoch 12 train loss 0.7863188064233824 | valid loss 0.8388267636299134 | valid acc 0.721\n",
            "Saving new best checkpoint...\n",
            "Epoch 13 train loss 0.7238279141655023 | valid loss 0.8360824525356293 | valid acc 0.7234\n",
            "Saving new best checkpoint...\n",
            "Epoch 14 train loss 0.6638878619467671 | valid loss 0.855653201341629 | valid acc 0.7274\n",
            "Saving new best checkpoint...\n",
            "Epoch 15 train loss 0.6190335063094442 | valid loss 0.800251207947731 | valid acc 0.7494\n",
            "Saving new best checkpoint...\n",
            "Epoch 16 train loss 0.5867026037621227 | valid loss 0.6051993429660797 | valid acc 0.801\n",
            "Saving new best checkpoint...\n",
            "Epoch 17 train loss 0.5507010483944957 | valid loss 0.6618861401081085 | valid acc 0.7792\n",
            "Epoch 18 train loss 0.5280368631197647 | valid loss 0.6249475347995758 | valid acc 0.796\n",
            "Epoch 19 train loss 0.49799721654165874 | valid loss 0.5748527061939239 | valid acc 0.813\n",
            "Saving new best checkpoint...\n",
            "Epoch 20 train loss 0.4745241053063761 | valid loss 0.6634498190879822 | valid acc 0.796\n",
            "Epoch 21 train loss 0.4526145000603389 | valid loss 0.6918616318702697 | valid acc 0.7866\n",
            "Epoch 22 train loss 0.4304505478675393 | valid loss 0.6071968483924866 | valid acc 0.8092\n",
            "Epoch 23 train loss 0.41557479958811944 | valid loss 0.5700869077444076 | valid acc 0.8148\n",
            "Saving new best checkpoint...\n",
            "Epoch 24 train loss 0.40368580289015715 | valid loss 0.6310337054729461 | valid acc 0.8046\n",
            "Epoch 25 train loss 0.39071306717497384 | valid loss 0.5216529053449631 | valid acc 0.8372\n",
            "Saving new best checkpoint...\n",
            "Epoch 26 train loss 0.37699571395800874 | valid loss 0.6276001673936844 | valid acc 0.808\n",
            "Epoch 27 train loss 0.36961474968120456 | valid loss 0.5136898064613342 | valid acc 0.8428\n",
            "Saving new best checkpoint...\n",
            "Epoch 28 train loss 0.3582512169060382 | valid loss 0.6147633957862854 | valid acc 0.8138\n",
            "Epoch 29 train loss 0.34285561613399873 | valid loss 0.49281796157360075 | valid acc 0.846\n",
            "Saving new best checkpoint...\n",
            "Epoch 30 train loss 0.3304665098390119 | valid loss 0.4874512815475464 | valid acc 0.847\n",
            "Saving new best checkpoint...\n",
            "Epoch 31 train loss 0.3208934584293853 | valid loss 0.7496579438447952 | valid acc 0.7928\n",
            "Epoch 32 train loss 0.3077987513547255 | valid loss 0.532329178750515 | valid acc 0.8342\n",
            "Epoch 33 train loss 0.30488435593857005 | valid loss 0.451977830529213 | valid acc 0.8572\n",
            "Saving new best checkpoint...\n",
            "Epoch 34 train loss 0.3023685798556967 | valid loss 0.4862164133787155 | valid acc 0.8516\n",
            "Epoch 35 train loss 0.294815912715752 | valid loss 0.5045229521393776 | valid acc 0.8502\n",
            "Epoch 36 train loss 0.2815482830840417 | valid loss 0.47479173928499224 | valid acc 0.854\n",
            "Epoch 37 train loss 0.2781172815752639 | valid loss 0.5206129044294358 | valid acc 0.8464\n",
            "Epoch 38 train loss 0.27113379777239804 | valid loss 0.4724378502368927 | valid acc 0.859\n",
            "Saving new best checkpoint...\n",
            "Epoch 39 train loss 0.2720837091646073 | valid loss 0.4835528492927551 | valid acc 0.8496\n",
            "Epoch 40 train loss 0.25760584481229837 | valid loss 0.5229859504103661 | valid acc 0.8526\n",
            "Epoch 41 train loss 0.25921267637220974 | valid loss 0.5367117494344711 | valid acc 0.8474\n",
            "Epoch 42 train loss 0.24799146297895772 | valid loss 0.5831115114688873 | valid acc 0.8376\n",
            "Epoch 43 train loss 0.2502913813487711 | valid loss 0.42312137901782987 | valid acc 0.8702\n",
            "Saving new best checkpoint...\n",
            "Epoch 44 train loss 0.24411626100878825 | valid loss 0.5069594779610633 | valid acc 0.842\n",
            "Epoch 45 train loss 0.22871117666363716 | valid loss 0.4569737434387207 | valid acc 0.8584\n",
            "Epoch 46 train loss 0.23768401632762767 | valid loss 0.5599229115247727 | valid acc 0.8346\n",
            "Epoch 47 train loss 0.22553772305731068 | valid loss 0.43703327685594556 | valid acc 0.8628\n",
            "Epoch 48 train loss 0.22424456563947553 | valid loss 0.45373301684856415 | valid acc 0.8698\n",
            "Epoch 49 train loss 0.217753101807003 | valid loss 0.49692641496658324 | valid acc 0.8552\n",
            "Epoch 50 train loss 0.21427384915295988 | valid loss 0.5170093688368798 | valid acc 0.8522\n",
            "Epoch 51 train loss 0.21624042330817742 | valid loss 0.45032598793506623 | valid acc 0.8694\n",
            "Epoch 52 train loss 0.20142508327791636 | valid loss 0.532873307466507 | valid acc 0.8446\n",
            "Epoch 53 train loss 0.20340051184493033 | valid loss 0.44583031594753264 | valid acc 0.8636\n",
            "Epoch 54 train loss 0.19841297128534113 | valid loss 0.4479461404681206 | valid acc 0.869\n",
            "Epoch 55 train loss 0.20004674870605496 | valid loss 0.5200524264574051 | valid acc 0.8434\n",
            "Epoch 56 train loss 0.1983158562798053 | valid loss 0.43078621983528137 | valid acc 0.8748\n",
            "Saving new best checkpoint...\n",
            "Epoch 57 train loss 0.1924614025152881 | valid loss 0.4911661195755005 | valid acc 0.854\n",
            "Epoch 58 train loss 0.18732651404570788 | valid loss 0.47585865914821623 | valid acc 0.8694\n",
            "Epoch 59 train loss 0.1898973045595498 | valid loss 0.48130968093872073 | valid acc 0.8572\n",
            "Epoch 60 train loss 0.18849971750751138 | valid loss 0.4227848270535469 | valid acc 0.8694\n",
            "Epoch 61 train loss 0.18406974798364734 | valid loss 0.44363234132528306 | valid acc 0.8708\n",
            "Epoch 62 train loss 0.1814810812621462 | valid loss 0.4481967675685883 | valid acc 0.861\n",
            "Epoch 63 train loss 0.1807089037240737 | valid loss 0.4432436481118202 | valid acc 0.8698\n",
            "Epoch 64 train loss 0.18158765524541112 | valid loss 0.43272962540388105 | valid acc 0.8754\n",
            "Saving new best checkpoint...\n",
            "Epoch 65 train loss 0.17244423609438606 | valid loss 0.39261822670698165 | valid acc 0.8826\n",
            "Saving new best checkpoint...\n",
            "Epoch 66 train loss 0.16709631753408097 | valid loss 0.4780909609794617 | valid acc 0.8604\n",
            "Epoch 67 train loss 0.17134043981786817 | valid loss 0.48991739422082903 | valid acc 0.8612\n",
            "Epoch 68 train loss 0.17022411509374666 | valid loss 0.41121897995471957 | valid acc 0.8748\n",
            "Epoch 69 train loss 0.16907598996873607 | valid loss 0.5371614453196526 | valid acc 0.8526\n",
            "Epoch 70 train loss 0.16947871378876947 | valid loss 0.4890942922234535 | valid acc 0.8602\n",
            "Epoch 71 train loss 0.17102039268832991 | valid loss 0.46162669837474823 | valid acc 0.8726\n",
            "Epoch 72 train loss 0.16026655806821177 | valid loss 0.5619336301088333 | valid acc 0.8524\n",
            "Epoch 73 train loss 0.1656319472134452 | valid loss 0.4497189927101135 | valid acc 0.87\n",
            "Epoch 74 train loss 0.16069329895121467 | valid loss 0.4511372250318527 | valid acc 0.8714\n",
            "Epoch 75 train loss 0.16016498240853913 | valid loss 0.43001947417855263 | valid acc 0.8782\n",
            "Epoch 76 train loss 0.1609813883392648 | valid loss 0.43794607669115065 | valid acc 0.8778\n",
            "Epoch 77 train loss 0.15629296472550117 | valid loss 0.4437426283955574 | valid acc 0.87\n",
            "Epoch 78 train loss 0.1640119264325635 | valid loss 0.4521263709664345 | valid acc 0.8666\n",
            "Epoch 79 train loss 0.15349083441436628 | valid loss 0.41287418276071547 | valid acc 0.8802\n",
            "Epoch 80 train loss 0.1555147738915614 | valid loss 0.4641609740257263 | valid acc 0.8672\n",
            "Epoch 81 train loss 0.15247562739320777 | valid loss 0.4052625074982643 | valid acc 0.8824\n",
            "Epoch 82 train loss 0.1475286704001271 | valid loss 0.43139643907547 | valid acc 0.8742\n",
            "Epoch 83 train loss 0.15288935505404053 | valid loss 0.46310466080904006 | valid acc 0.8702\n",
            "Epoch 84 train loss 0.15094770099544388 | valid loss 0.4492669582366943 | valid acc 0.8676\n",
            "Epoch 85 train loss 0.1502188022502444 | valid loss 0.4621741044521332 | valid acc 0.8772\n",
            "Epoch 86 train loss 0.1458620544184338 | valid loss 0.4753601148724556 | valid acc 0.8632\n",
            "Epoch 87 train loss 0.1536919129271568 | valid loss 0.42938372507691386 | valid acc 0.885\n",
            "Saving new best checkpoint...\n",
            "Epoch 88 train loss 0.15007152089806783 | valid loss 0.44074003159999847 | valid acc 0.8736\n",
            "Epoch 89 train loss 0.14769016204147853 | valid loss 0.48365640968084334 | valid acc 0.8712\n",
            "Epoch 90 train loss 0.14904467157215218 | valid loss 0.4213223013281822 | valid acc 0.8768\n",
            "Epoch 91 train loss 0.14680739110124044 | valid loss 0.4097114911675453 | valid acc 0.8852\n",
            "Saving new best checkpoint...\n",
            "Epoch 92 train loss 0.14353541222887792 | valid loss 0.4979405230283737 | valid acc 0.8682\n",
            "Epoch 93 train loss 0.13925403060222213 | valid loss 0.44914318233728406 | valid acc 0.8758\n",
            "Epoch 94 train loss 0.14411493471230974 | valid loss 0.5878303146362305 | valid acc 0.8426\n",
            "Epoch 95 train loss 0.14490799095735632 | valid loss 0.4034177821874618 | valid acc 0.8858\n",
            "Saving new best checkpoint...\n",
            "Epoch 96 train loss 0.14253611938858574 | valid loss 0.4752562469244003 | valid acc 0.8692\n",
            "Epoch 97 train loss 0.14299212289254434 | valid loss 0.5408264845609665 | valid acc 0.863\n",
            "Epoch 98 train loss 0.14608663839118724 | valid loss 0.4372256827354431 | valid acc 0.881\n",
            "Epoch 99 train loss 0.13983417346819557 | valid loss 0.4759902408719063 | valid acc 0.868\n",
            "Epoch 100 train loss 0.14096108890688894 | valid loss 0.5940484547615051 | valid acc 0.8444\n",
            "Label category: seed 7, model vgg19, test loss 0.4034177812933922, test acc 0.8858\n",
            "Time: 2033.4860937595367\n"
          ]
        }
      ]
    },
    {
      "cell_type": "markdown",
      "source": [
        "### Model Training - High Dimentional Labels - Speech\n",
        "\n",
        "Parameters\n",
        "- Model : `VGG19`\n",
        "- Dataset : CIFAR 10\n",
        "- Seed : 7\n",
        "- Model Save Directory : `OUTPUT`\n",
        "- Speech Label Directory : `/gdrive/MyDrive/practical_deep_learning/project/original_experiments/labels/label_files/`"
      ],
      "metadata": {
        "id": "WjJGzoRIfv04"
      }
    },
    {
      "cell_type": "code",
      "source": [
        "start = time.time()\n",
        "! python /gdrive/MyDrive/practical_deep_learning/project/original_experiments/train.py --model vgg19 --dataset cifar10 --seed 7 --label speech --base_dir /gdrive/MyDrive/practical_deep_learning/project/outputs --label_dir /gdrive/MyDrive/practical_deep_learning/project/original_experiments/labels/label_files/\n",
        "end = time.time()\n",
        "print(\"Time:\", end-start)"
      ],
      "metadata": {
        "colab": {
          "base_uri": "https://localhost:8080/"
        },
        "id": "ovoD6WGbgJd5",
        "outputId": "d5b9f758-2a00-493c-e3c3-86192424b82d"
      },
      "execution_count": null,
      "outputs": [
        {
          "output_type": "stream",
          "name": "stdout",
          "text": [
            "Start training 100% cifar10 speech model with manual seed 7 and model vgg19.\n",
            "Best model location: /gdrive/MyDrive/practical_deep_learning/project/outputs/cifar10/seed7/vgg19/model_speech/speech_seed7_vgg19_best_model.pth.\n",
            "Checkpoint location: /gdrive/MyDrive/practical_deep_learning/project/outputs/cifar10/seed7/vgg19/model_speech/speech_seed7_vgg19_checkpoint.pth.\n",
            "Log location: /gdrive/MyDrive/practical_deep_learning/project/outputs/log/cifar10_speech_log.csv.\n",
            "Snapshots location: /gdrive/MyDrive/practical_deep_learning/project/outputs/cifar10/seed7/vgg19/model_speech/snapshots\n",
            "Files already downloaded and verified\n",
            "Files already downloaded and verified\n",
            "Files already downloaded and verified\n",
            "Number of Epochs : 200\n",
            "/usr/local/lib/python3.7/dist-packages/torch/optim/lr_scheduler.py:156: UserWarning: The epoch parameter in `scheduler.step()` was not necessary and is being deprecated where possible. Please use `scheduler.step()` to step the scheduler. During the deprecation, if epoch is different from None, the closed form is used instead of the new chainable form, where available. Please open an issue if you are unable to replicate your use case: https://github.com/pytorch/pytorch/issues/new/choose.\n",
            "  warnings.warn(EPOCH_DEPRECATION_WARNING, UserWarning)\n",
            "Epoch 1 train loss 8.924302885478193 | valid loss 7.0967805957794186 | valid acc 0.245\n",
            "Saving new best checkpoint...\n",
            "Epoch 2 train loss 6.620989328080958 | valid loss 6.575222864151001 | valid acc 0.3814\n",
            "Saving new best checkpoint...\n",
            "Epoch 3 train loss 5.775987556034869 | valid loss 6.865496397018433 | valid acc 0.3972\n",
            "Saving new best checkpoint...\n",
            "Epoch 4 train loss 5.126913130283356 | valid loss 5.337376356124878 | valid acc 0.5138\n",
            "Saving new best checkpoint...\n",
            "Epoch 5 train loss 4.7222209782762965 | valid loss 5.561852502822876 | valid acc 0.5154\n",
            "Saving new best checkpoint...\n",
            "Epoch 6 train loss 4.348249291154471 | valid loss 4.708250908851624 | valid acc 0.5546\n",
            "Saving new best checkpoint...\n",
            "Epoch 7 train loss 4.057687703181397 | valid loss 4.1782659244537355 | valid acc 0.648\n",
            "Saving new best checkpoint...\n",
            "Epoch 8 train loss 3.972885125062682 | valid loss 4.451041412353516 | valid acc 0.607\n",
            "Epoch 9 train loss 3.730291512202133 | valid loss 4.53271481513977 | valid acc 0.6116\n",
            "Epoch 10 train loss 3.620247120207006 | valid loss 3.7982934522628784 | valid acc 0.6778\n",
            "Saving new best checkpoint...\n",
            "Epoch 11 train loss 3.4966844374483284 | valid loss 4.271421899795532 | valid acc 0.6066\n",
            "Epoch 12 train loss 3.3611309731548484 | valid loss 4.447084712982178 | valid acc 0.6756\n",
            "Epoch 13 train loss 3.514686718583107 | valid loss 3.603495283126831 | valid acc 0.6818\n",
            "Saving new best checkpoint...\n",
            "Epoch 14 train loss 3.206960182975639 | valid loss 4.298381757736206 | valid acc 0.6388\n",
            "Epoch 15 train loss 3.1618268852206795 | valid loss 3.5073060750961305 | valid acc 0.702\n",
            "Saving new best checkpoint...\n",
            "Epoch 16 train loss 3.129743730480021 | valid loss 3.410699987411499 | valid acc 0.7028\n",
            "Saving new best checkpoint...\n",
            "Epoch 17 train loss 3.157033375718377 | valid loss 3.30411413192749 | valid acc 0.7446\n",
            "Saving new best checkpoint...\n",
            "Epoch 18 train loss 3.0638634572652252 | valid loss 3.9784195899963377 | valid acc 0.7328\n",
            "Epoch 19 train loss 3.028856348246336 | valid loss 3.064335758686066 | valid acc 0.739\n",
            "Epoch 20 train loss 2.871157805012031 | valid loss 3.1361503267288207 | valid acc 0.7304\n",
            "Epoch 21 train loss 2.8957902782342653 | valid loss 3.1478946208953857 | valid acc 0.746\n",
            "Saving new best checkpoint...\n",
            "Epoch 22 train loss 2.948648381300948 | valid loss 2.9900123071670532 | valid acc 0.7504\n",
            "Saving new best checkpoint...\n",
            "Epoch 23 train loss 2.7727717249230905 | valid loss 3.3218174505233766 | valid acc 0.7262\n"
          ]
        }
      ]
    },
    {
      "cell_type": "markdown",
      "source": [
        "### Model Training - High Dimentional Labels - Shuffled Speech\n",
        "\n",
        "Parameters\n",
        "- Model : `VGG19`\n",
        "- Dataset : CIFAR 10\n",
        "- Seed : 7\n",
        "- Model Save Directory : `OUTPUT`\n",
        "- Speech Label Directory : `/gdrive/MyDrive/practical_deep_learning/project/original_experiments/labels/label_files/`"
      ],
      "metadata": {
        "id": "Yr_QvgcyiVA1"
      }
    },
    {
      "cell_type": "code",
      "source": [
        "start = time.time()\n",
        "! python /gdrive/MyDrive/practical_deep_learning/project/original_experiments/train.py --model vgg19 --dataset cifar10 --seed 7 --label shuffle --base_dir /gdrive/MyDrive/practical_deep_learning/project/outputs --label_dir /gdrive/MyDrive/practical_deep_learning/project/original_experiments/labels/label_files/\n",
        "end = time.time()\n",
        "print(\"Time:\", end-start)"
      ],
      "metadata": {
        "id": "qg-To5peiYmh"
      },
      "execution_count": null,
      "outputs": []
    },
    {
      "cell_type": "markdown",
      "source": [
        "### Model Training - High Dimentional Labels - Composite Gaussian\n",
        "\n",
        "Parameters\n",
        "- Model : `VGG19`\n",
        "- Dataset : CIFAR 10\n",
        "- Seed : 7\n",
        "- Model Save Directory : `OUTPUT`\n",
        "- Speech Label Directory : `/gdrive/MyDrive/practical_deep_learning/project/original_experiments/labels/label_files/`"
      ],
      "metadata": {
        "id": "mRolebHYip-v"
      }
    },
    {
      "cell_type": "code",
      "source": [
        "start = time.time()\n",
        "! python /gdrive/MyDrive/practical_deep_learning/project/original_experiments/train.py --model vgg19 --dataset cifar10 --seed 7 --label composite --base_dir /gdrive/MyDrive/practical_deep_learning/project/outputs --label_dir /gdrive/MyDrive/practical_deep_learning/project/original_experiments/labels/label_files/\n",
        "end = time.time()\n",
        "print(\"Time:\", end-start)"
      ],
      "metadata": {
        "id": "W0qKjR9uitIP"
      },
      "execution_count": null,
      "outputs": []
    },
    {
      "cell_type": "markdown",
      "source": [
        "### Model Training - High Dimentional Labels - BERT Embeddings\n",
        "\n",
        "Parameters\n",
        "- Model : `VGG19`\n",
        "- Dataset : CIFAR 10\n",
        "- Seed : 7\n",
        "- Model Save Directory : `OUTPUT`\n",
        "- Speech Label Directory : `/gdrive/MyDrive/practical_deep_learning/project/original_experiments/labels/label_files/`"
      ],
      "metadata": {
        "id": "qC_ZrUy8i4tH"
      }
    },
    {
      "cell_type": "code",
      "source": [
        "start = time.time()\n",
        "! python /gdrive/MyDrive/practical_deep_learning/project/original_experiments/train.py --model vgg19 --dataset cifar10 --seed 7 --label bert --base_dir /gdrive/MyDrive/practical_deep_learning/project/outputs --label_dir /gdrive/MyDrive/practical_deep_learning/project/original_experiments/labels/label_files/\n",
        "end = time.time()\n",
        "print(\"Time:\", end-start)"
      ],
      "metadata": {
        "id": "kT5m07Ioi-vS"
      },
      "execution_count": null,
      "outputs": []
    },
    {
      "cell_type": "markdown",
      "source": [
        "### Model Training - High Dimentional Labels - Random\n",
        "\n",
        "Parameters\n",
        "- Model : `VGG19`\n",
        "- Dataset : CIFAR 10\n",
        "- Seed : 7\n",
        "- Model Save Directory : `OUTPUT`\n",
        "- Speech Label Directory : `/gdrive/MyDrive/practical_deep_learning/project/original_experiments/labels/label_files/`"
      ],
      "metadata": {
        "id": "UvR5BY3xjLZg"
      }
    },
    {
      "cell_type": "code",
      "source": [
        "start = time.time()\n",
        "! python /gdrive/MyDrive/practical_deep_learning/project/original_experiments/train.py --model vgg19 --dataset cifar10 --seed 7 --label random --base_dir /gdrive/MyDrive/practical_deep_learning/project/outputs --label_dir /gdrive/MyDrive/practical_deep_learning/project/original_experiments/labels/label_files/\n",
        "end = time.time()\n",
        "print(\"Time:\", end-start)"
      ],
      "metadata": {
        "id": "2xx0gPgPjQ6w"
      },
      "execution_count": null,
      "outputs": []
    }
  ]
}