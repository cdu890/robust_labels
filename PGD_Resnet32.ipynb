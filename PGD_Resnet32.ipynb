{
  "nbformat": 4,
  "nbformat_minor": 0,
  "metadata": {
    "colab": {
      "name": "PGD_Resnet32.ipynb",
      "provenance": [],
      "collapsed_sections": [],
      "toc_visible": true
    },
    "kernelspec": {
      "name": "python3",
      "display_name": "Python 3"
    },
    "language_info": {
      "name": "python"
    },
    "accelerator": "GPU"
  },
  "cells": [
    {
      "cell_type": "markdown",
      "metadata": {
        "id": "FuBbwhCdXD19"
      },
      "source": [
        "# Step 0. Setup + Dependencies"
      ]
    },
    {
      "cell_type": "code",
      "execution_count": null,
      "metadata": {
        "colab": {
          "base_uri": "https://localhost:8080/"
        },
        "id": "zFBdfmYsXC_r",
        "outputId": "0f5ee417-ec06-4542-9d65-188f954597cf"
      },
      "outputs": [
        {
          "output_type": "stream",
          "name": "stdout",
          "text": [
            "Mounted at /gdrive\n"
          ]
        }
      ],
      "source": [
        "import os\n",
        "from google.colab import drive\n",
        "drive.mount('/gdrive')"
      ]
    },
    {
      "cell_type": "code",
      "execution_count": null,
      "metadata": {
        "id": "EZJWcSJ-YOLP"
      },
      "outputs": [],
      "source": [
        "import time"
      ]
    },
    {
      "cell_type": "code",
      "execution_count": null,
      "metadata": {
        "id": "laHNp_GMXN-j"
      },
      "outputs": [],
      "source": [
        "root = '/gdrive/MyDrive/deep_learning_sys/label_representations' \n",
        "os.chdir(root)"
      ]
    },
    {
      "cell_type": "code",
      "execution_count": null,
      "metadata": {
        "colab": {
          "base_uri": "https://localhost:8080/"
        },
        "id": "KPC5REIEOquC",
        "outputId": "6f25a834-82af-4b3f-cddc-a27ab9527df8"
      },
      "outputs": [
        {
          "output_type": "stream",
          "name": "stdout",
          "text": [
            "Collecting torchtoolbox\n",
            "  Downloading torchtoolbox-0.1.8.2-py3-none-any.whl (84 kB)\n",
            "\u001b[?25l\r\u001b[K     |███▉                            | 10 kB 27.3 MB/s eta 0:00:01\r\u001b[K     |███████▊                        | 20 kB 9.7 MB/s eta 0:00:01\r\u001b[K     |███████████▋                    | 30 kB 8.6 MB/s eta 0:00:01\r\u001b[K     |███████████████▍                | 40 kB 8.0 MB/s eta 0:00:01\r\u001b[K     |███████████████████▎            | 51 kB 4.2 MB/s eta 0:00:01\r\u001b[K     |███████████████████████▏        | 61 kB 4.9 MB/s eta 0:00:01\r\u001b[K     |███████████████████████████     | 71 kB 5.3 MB/s eta 0:00:01\r\u001b[K     |██████████████████████████████▉ | 81 kB 5.7 MB/s eta 0:00:01\r\u001b[K     |████████████████████████████████| 84 kB 2.7 MB/s \n",
            "\u001b[?25hRequirement already satisfied: numpy in /usr/local/lib/python3.7/dist-packages (from torchtoolbox) (1.21.6)\n",
            "Requirement already satisfied: tensorboard in /usr/local/lib/python3.7/dist-packages (from torchtoolbox) (2.8.0)\n",
            "Collecting transformers\n",
            "  Downloading transformers-4.18.0-py3-none-any.whl (4.0 MB)\n",
            "\u001b[K     |████████████████████████████████| 4.0 MB 29.9 MB/s \n",
            "\u001b[?25hRequirement already satisfied: scikit-learn in /usr/local/lib/python3.7/dist-packages (from torchtoolbox) (1.0.2)\n",
            "Requirement already satisfied: pyyaml in /usr/local/lib/python3.7/dist-packages (from torchtoolbox) (3.13)\n",
            "Requirement already satisfied: pyarrow in /usr/local/lib/python3.7/dist-packages (from torchtoolbox) (6.0.1)\n",
            "Requirement already satisfied: tqdm in /usr/local/lib/python3.7/dist-packages (from torchtoolbox) (4.64.0)\n",
            "Requirement already satisfied: opencv-python in /usr/local/lib/python3.7/dist-packages (from torchtoolbox) (4.1.2.30)\n",
            "Requirement already satisfied: prettytable in /usr/local/lib/python3.7/dist-packages (from torchtoolbox) (3.2.0)\n",
            "Requirement already satisfied: six in /usr/local/lib/python3.7/dist-packages (from torchtoolbox) (1.15.0)\n",
            "Requirement already satisfied: scipy in /usr/local/lib/python3.7/dist-packages (from torchtoolbox) (1.4.1)\n",
            "Requirement already satisfied: lmdb in /usr/local/lib/python3.7/dist-packages (from torchtoolbox) (0.99)\n",
            "Requirement already satisfied: wcwidth in /usr/local/lib/python3.7/dist-packages (from prettytable->torchtoolbox) (0.2.5)\n",
            "Requirement already satisfied: importlib-metadata in /usr/local/lib/python3.7/dist-packages (from prettytable->torchtoolbox) (4.11.3)\n",
            "Requirement already satisfied: zipp>=0.5 in /usr/local/lib/python3.7/dist-packages (from importlib-metadata->prettytable->torchtoolbox) (3.8.0)\n",
            "Requirement already satisfied: typing-extensions>=3.6.4 in /usr/local/lib/python3.7/dist-packages (from importlib-metadata->prettytable->torchtoolbox) (4.2.0)\n",
            "Requirement already satisfied: threadpoolctl>=2.0.0 in /usr/local/lib/python3.7/dist-packages (from scikit-learn->torchtoolbox) (3.1.0)\n",
            "Requirement already satisfied: joblib>=0.11 in /usr/local/lib/python3.7/dist-packages (from scikit-learn->torchtoolbox) (1.1.0)\n",
            "Requirement already satisfied: google-auth-oauthlib<0.5,>=0.4.1 in /usr/local/lib/python3.7/dist-packages (from tensorboard->torchtoolbox) (0.4.6)\n",
            "Requirement already satisfied: protobuf>=3.6.0 in /usr/local/lib/python3.7/dist-packages (from tensorboard->torchtoolbox) (3.17.3)\n",
            "Requirement already satisfied: absl-py>=0.4 in /usr/local/lib/python3.7/dist-packages (from tensorboard->torchtoolbox) (1.0.0)\n",
            "Requirement already satisfied: setuptools>=41.0.0 in /usr/local/lib/python3.7/dist-packages (from tensorboard->torchtoolbox) (57.4.0)\n",
            "Requirement already satisfied: wheel>=0.26 in /usr/local/lib/python3.7/dist-packages (from tensorboard->torchtoolbox) (0.37.1)\n",
            "Requirement already satisfied: grpcio>=1.24.3 in /usr/local/lib/python3.7/dist-packages (from tensorboard->torchtoolbox) (1.44.0)\n",
            "Requirement already satisfied: requests<3,>=2.21.0 in /usr/local/lib/python3.7/dist-packages (from tensorboard->torchtoolbox) (2.23.0)\n",
            "Requirement already satisfied: tensorboard-data-server<0.7.0,>=0.6.0 in /usr/local/lib/python3.7/dist-packages (from tensorboard->torchtoolbox) (0.6.1)\n",
            "Requirement already satisfied: tensorboard-plugin-wit>=1.6.0 in /usr/local/lib/python3.7/dist-packages (from tensorboard->torchtoolbox) (1.8.1)\n",
            "Requirement already satisfied: markdown>=2.6.8 in /usr/local/lib/python3.7/dist-packages (from tensorboard->torchtoolbox) (3.3.6)\n",
            "Requirement already satisfied: google-auth<3,>=1.6.3 in /usr/local/lib/python3.7/dist-packages (from tensorboard->torchtoolbox) (1.35.0)\n",
            "Requirement already satisfied: werkzeug>=0.11.15 in /usr/local/lib/python3.7/dist-packages (from tensorboard->torchtoolbox) (1.0.1)\n",
            "Requirement already satisfied: cachetools<5.0,>=2.0.0 in /usr/local/lib/python3.7/dist-packages (from google-auth<3,>=1.6.3->tensorboard->torchtoolbox) (4.2.4)\n",
            "Requirement already satisfied: pyasn1-modules>=0.2.1 in /usr/local/lib/python3.7/dist-packages (from google-auth<3,>=1.6.3->tensorboard->torchtoolbox) (0.2.8)\n",
            "Requirement already satisfied: rsa<5,>=3.1.4 in /usr/local/lib/python3.7/dist-packages (from google-auth<3,>=1.6.3->tensorboard->torchtoolbox) (4.8)\n",
            "Requirement already satisfied: requests-oauthlib>=0.7.0 in /usr/local/lib/python3.7/dist-packages (from google-auth-oauthlib<0.5,>=0.4.1->tensorboard->torchtoolbox) (1.3.1)\n",
            "Requirement already satisfied: pyasn1<0.5.0,>=0.4.6 in /usr/local/lib/python3.7/dist-packages (from pyasn1-modules>=0.2.1->google-auth<3,>=1.6.3->tensorboard->torchtoolbox) (0.4.8)\n",
            "Requirement already satisfied: idna<3,>=2.5 in /usr/local/lib/python3.7/dist-packages (from requests<3,>=2.21.0->tensorboard->torchtoolbox) (2.10)\n",
            "Requirement already satisfied: chardet<4,>=3.0.2 in /usr/local/lib/python3.7/dist-packages (from requests<3,>=2.21.0->tensorboard->torchtoolbox) (3.0.4)\n",
            "Requirement already satisfied: urllib3!=1.25.0,!=1.25.1,<1.26,>=1.21.1 in /usr/local/lib/python3.7/dist-packages (from requests<3,>=2.21.0->tensorboard->torchtoolbox) (1.24.3)\n",
            "Requirement already satisfied: certifi>=2017.4.17 in /usr/local/lib/python3.7/dist-packages (from requests<3,>=2.21.0->tensorboard->torchtoolbox) (2021.10.8)\n",
            "Requirement already satisfied: oauthlib>=3.0.0 in /usr/local/lib/python3.7/dist-packages (from requests-oauthlib>=0.7.0->google-auth-oauthlib<0.5,>=0.4.1->tensorboard->torchtoolbox) (3.2.0)\n",
            "Requirement already satisfied: regex!=2019.12.17 in /usr/local/lib/python3.7/dist-packages (from transformers->torchtoolbox) (2019.12.20)\n",
            "Collecting sacremoses\n",
            "  Downloading sacremoses-0.0.53.tar.gz (880 kB)\n",
            "\u001b[K     |████████████████████████████████| 880 kB 60.7 MB/s \n",
            "\u001b[?25hRequirement already satisfied: filelock in /usr/local/lib/python3.7/dist-packages (from transformers->torchtoolbox) (3.6.0)\n",
            "Requirement already satisfied: packaging>=20.0 in /usr/local/lib/python3.7/dist-packages (from transformers->torchtoolbox) (21.3)\n",
            "Collecting tokenizers!=0.11.3,<0.13,>=0.11.1\n",
            "  Downloading tokenizers-0.12.1-cp37-cp37m-manylinux_2_12_x86_64.manylinux2010_x86_64.whl (6.6 MB)\n",
            "\u001b[K     |████████████████████████████████| 6.6 MB 50.9 MB/s \n",
            "\u001b[?25hCollecting huggingface-hub<1.0,>=0.1.0\n",
            "  Downloading huggingface_hub-0.5.1-py3-none-any.whl (77 kB)\n",
            "\u001b[K     |████████████████████████████████| 77 kB 8.9 MB/s \n",
            "\u001b[?25hCollecting pyyaml\n",
            "  Downloading PyYAML-6.0-cp37-cp37m-manylinux_2_5_x86_64.manylinux1_x86_64.manylinux_2_12_x86_64.manylinux2010_x86_64.whl (596 kB)\n",
            "\u001b[K     |████████████████████████████████| 596 kB 49.2 MB/s \n",
            "\u001b[?25hRequirement already satisfied: pyparsing!=3.0.5,>=2.0.2 in /usr/local/lib/python3.7/dist-packages (from packaging>=20.0->transformers->torchtoolbox) (3.0.8)\n",
            "Requirement already satisfied: click in /usr/local/lib/python3.7/dist-packages (from sacremoses->transformers->torchtoolbox) (7.1.2)\n",
            "Building wheels for collected packages: sacremoses\n",
            "  Building wheel for sacremoses (setup.py) ... \u001b[?25l\u001b[?25hdone\n",
            "  Created wheel for sacremoses: filename=sacremoses-0.0.53-py3-none-any.whl size=895260 sha256=696418a49d2b1249528b7ed6803c482cf408020f7743b25f4e863b2fb1c09a83\n",
            "  Stored in directory: /root/.cache/pip/wheels/87/39/dd/a83eeef36d0bf98e7a4d1933a4ad2d660295a40613079bafc9\n",
            "Successfully built sacremoses\n",
            "Installing collected packages: pyyaml, tokenizers, sacremoses, huggingface-hub, transformers, torchtoolbox\n",
            "  Attempting uninstall: pyyaml\n",
            "    Found existing installation: PyYAML 3.13\n",
            "    Uninstalling PyYAML-3.13:\n",
            "      Successfully uninstalled PyYAML-3.13\n",
            "Successfully installed huggingface-hub-0.5.1 pyyaml-6.0 sacremoses-0.0.53 tokenizers-0.12.1 torchtoolbox-0.1.8.2 transformers-4.18.0\n"
          ]
        }
      ],
      "source": [
        "! pip install torchtoolbox"
      ]
    },
    {
      "cell_type": "code",
      "source": [
        "! pip install torchattacks"
      ],
      "metadata": {
        "colab": {
          "base_uri": "https://localhost:8080/"
        },
        "id": "pP_OkQYeBd-I",
        "outputId": "b634524b-63bf-45de-d64c-335de1932be4"
      },
      "execution_count": null,
      "outputs": [
        {
          "output_type": "stream",
          "name": "stdout",
          "text": [
            "Collecting torchattacks\n",
            "  Downloading torchattacks-3.2.6-py3-none-any.whl (105 kB)\n",
            "\u001b[?25l\r\u001b[K     |███                             | 10 kB 30.8 MB/s eta 0:00:01\r\u001b[K     |██████▏                         | 20 kB 11.0 MB/s eta 0:00:01\r\u001b[K     |█████████▎                      | 30 kB 9.3 MB/s eta 0:00:01\r\u001b[K     |████████████▍                   | 40 kB 8.5 MB/s eta 0:00:01\r\u001b[K     |███████████████▌                | 51 kB 4.3 MB/s eta 0:00:01\r\u001b[K     |██████████████████▋             | 61 kB 5.1 MB/s eta 0:00:01\r\u001b[K     |█████████████████████▊          | 71 kB 5.5 MB/s eta 0:00:01\r\u001b[K     |████████████████████████▉       | 81 kB 5.7 MB/s eta 0:00:01\r\u001b[K     |███████████████████████████▉    | 92 kB 6.3 MB/s eta 0:00:01\r\u001b[K     |███████████████████████████████ | 102 kB 5.3 MB/s eta 0:00:01\r\u001b[K     |████████████████████████████████| 105 kB 5.3 MB/s \n",
            "\u001b[?25hInstalling collected packages: torchattacks\n",
            "Successfully installed torchattacks-3.2.6\n"
          ]
        }
      ]
    },
    {
      "cell_type": "markdown",
      "metadata": {
        "id": "Up6eajMh9yoC"
      },
      "source": [
        "# Step 1. Attacking w/ PGD - Original Labels"
      ]
    },
    {
      "cell_type": "markdown",
      "metadata": {
        "id": "5xVFsX3BT4IE"
      },
      "source": [
        "## Categorical Labels"
      ]
    },
    {
      "cell_type": "code",
      "execution_count": null,
      "metadata": {
        "colab": {
          "base_uri": "https://localhost:8080/"
        },
        "id": "uu67JCkY91BD",
        "outputId": "1499d359-4a0b-46bc-fcac-8c80e702aa46"
      },
      "outputs": [
        {
          "output_type": "stream",
          "name": "stdout",
          "text": [
            "Start attacking cifar10 category model (kNN) with manual seed 7 and model resnet32.\n",
            "Best model location: outputs/cifar10/seed7/resnet32/model_category/category_seed7_resnet32_best_model.pth.\n",
            "Attack results location: outputs/cifar10/seed7/resnet32/model_category/category_seed7_resnet32_attack_results_NN.pth.\n",
            "Files already downloaded and verified\n",
            "/usr/local/lib/python3.7/dist-packages/torch/utils/data/dataloader.py:490: UserWarning: This DataLoader will create 4 worker processes in total. Our suggested max number of worker in current system is 2, which is smaller than what this DataLoader is going to create. Please be aware that excessive worker creation might get DataLoader running slow or even freeze, lower the worker number to avoid potential slowness/freeze if necessary.\n",
            "  cpuset_checked))\n",
            "Test PGD untargeted\n",
            "Epsilon: 0\tTest Accuracy = 8804 / 10000 = 0.8804\n",
            "Epsilon: 0.05\tTest Accuracy = 1226 / 10000 = 0.1226\n",
            "Epsilon: 0.1\tTest Accuracy = 965 / 10000 = 0.0965\n",
            "Epsilon: 0.15\tTest Accuracy = 824 / 10000 = 0.0824\n",
            "Epsilon: 0.2\tTest Accuracy = 731 / 10000 = 0.0731\n",
            "Epsilon: 0.25\tTest Accuracy = 657 / 10000 = 0.0657\n",
            "Epsilon: 0.3\tTest Accuracy = 591 / 10000 = 0.0591\n",
            "Time: 3090.203576564789\n"
          ]
        }
      ],
      "source": [
        "start = time.time()\n",
        "! python attack_v3.py --model resnet32 --dataset cifar10 --seed 7 --label category --base_dir outputs --label_dir ./labels/label_files/cifar10\n",
        "end = time.time()\n",
        "print(\"Time:\", end-start)"
      ]
    },
    {
      "cell_type": "markdown",
      "metadata": {
        "id": "4tIaNu9rfu2h"
      },
      "source": [
        "## High-dimensional"
      ]
    },
    {
      "cell_type": "markdown",
      "metadata": {
        "id": "7zLcXArZf2op"
      },
      "source": [
        "### Speech"
      ]
    },
    {
      "cell_type": "code",
      "execution_count": null,
      "metadata": {
        "colab": {
          "base_uri": "https://localhost:8080/"
        },
        "id": "DSJC3iWwgaMg",
        "outputId": "af209a48-371b-40df-cf77-7eeb7fb3454e"
      },
      "outputs": [
        {
          "output_type": "stream",
          "name": "stdout",
          "text": [
            "Start attacking cifar10 speech model (kNN) with manual seed 7 and model resnet32.\n",
            "Best model location: outputs/cifar10/seed7/resnet32/model_speech/speech_seed7_resnet32_best_model.pth.\n",
            "Attack results location: outputs/cifar10/seed7/resnet32/model_speech/speech_seed7_resnet32_attack_results_NN.pth.\n",
            "Files already downloaded and verified\n",
            "/usr/local/lib/python3.7/dist-packages/torch/utils/data/dataloader.py:490: UserWarning: This DataLoader will create 4 worker processes in total. Our suggested max number of worker in current system is 2, which is smaller than what this DataLoader is going to create. Please be aware that excessive worker creation might get DataLoader running slow or even freeze, lower the worker number to avoid potential slowness/freeze if necessary.\n",
            "  cpuset_checked))\n",
            "Test PGD untargeted\n",
            "Epsilon: 0\tTest Accuracy = 8576 / 10000 = 0.8576\n",
            "Epsilon: 0.05\tTest Accuracy = 3254 / 10000 = 0.3254\n",
            "Epsilon: 0.1\tTest Accuracy = 3136 / 10000 = 0.3136\n",
            "Epsilon: 0.15\tTest Accuracy = 2984 / 10000 = 0.2984\n",
            "Epsilon: 0.2\tTest Accuracy = 2926 / 10000 = 0.2926\n",
            "Epsilon: 0.25\tTest Accuracy = 2870 / 10000 = 0.287\n",
            "Epsilon: 0.3\tTest Accuracy = 2696 / 10000 = 0.2696\n",
            "Time: 4018.442764520645\n"
          ]
        }
      ],
      "source": [
        "start = time.time()\n",
        "! python attack_v3.py --model resnet32 --dataset cifar10 --seed 7 --label speech --base_dir outputs --label_dir ./labels/label_files/cifar10\n",
        "end = time.time()\n",
        "print(\"Time:\", end-start)"
      ]
    },
    {
      "cell_type": "markdown",
      "metadata": {
        "id": "nwJcQKltzlhy"
      },
      "source": [
        "### Shuffled Speech"
      ]
    },
    {
      "cell_type": "code",
      "execution_count": null,
      "metadata": {
        "colab": {
          "base_uri": "https://localhost:8080/"
        },
        "outputId": "202ccfae-22a6-4fbf-f77e-57756e315da7",
        "id": "ay6z5E4zzlh5"
      },
      "outputs": [
        {
          "output_type": "stream",
          "name": "stdout",
          "text": [
            "Start attacking cifar10 shuffle model (kNN) with manual seed 7 and model resnet32.\n",
            "Best model location: outputs/cifar10/seed7/resnet32/model_shuffle/shuffle_seed7_resnet32_best_model.pth.\n",
            "Attack results location: outputs/cifar10/seed7/resnet32/model_shuffle/shuffle_seed7_resnet32_attack_results_NN.pth.\n",
            "Files already downloaded and verified\n",
            "/usr/local/lib/python3.7/dist-packages/torch/utils/data/dataloader.py:490: UserWarning: This DataLoader will create 4 worker processes in total. Our suggested max number of worker in current system is 2, which is smaller than what this DataLoader is going to create. Please be aware that excessive worker creation might get DataLoader running slow or even freeze, lower the worker number to avoid potential slowness/freeze if necessary.\n",
            "  cpuset_checked))\n",
            "Test PGD untargeted\n",
            "Epsilon: 0\tTest Accuracy = 8633 / 10000 = 0.8633\n",
            "Epsilon: 0.05\tTest Accuracy = 3911 / 10000 = 0.3911\n",
            "Epsilon: 0.1\tTest Accuracy = 3789 / 10000 = 0.3789\n",
            "Epsilon: 0.15\tTest Accuracy = 3670 / 10000 = 0.367\n",
            "Epsilon: 0.2\tTest Accuracy = 3580 / 10000 = 0.358\n",
            "Epsilon: 0.25\tTest Accuracy = 3465 / 10000 = 0.3465\n",
            "Epsilon: 0.3\tTest Accuracy = 3382 / 10000 = 0.3382\n",
            "Time: 4092.176422357559\n"
          ]
        }
      ],
      "source": [
        "start = time.time()\n",
        "! python attack_v3.py --model resnet32 --dataset cifar10 --seed 7 --label shuffle --base_dir outputs --label_dir ./labels/label_files/cifar10\n",
        "end = time.time()\n",
        "print(\"Time:\", end-start)"
      ]
    },
    {
      "cell_type": "markdown",
      "metadata": {
        "id": "kgEuls5Vzs_n"
      },
      "source": [
        "### Uniform"
      ]
    },
    {
      "cell_type": "code",
      "execution_count": null,
      "metadata": {
        "colab": {
          "base_uri": "https://localhost:8080/"
        },
        "outputId": "5c3fd214-d5d0-42ca-b066-b923caa16375",
        "id": "Be4WndQczs_o"
      },
      "outputs": [
        {
          "output_type": "stream",
          "name": "stdout",
          "text": [
            "Start attacking cifar10 uniform model (kNN) with manual seed 7 and model resnet32.\n",
            "Best model location: outputs/cifar10/seed7/resnet32/model_uniform/uniform_seed7_resnet32_best_model.pth.\n",
            "Attack results location: outputs/cifar10/seed7/resnet32/model_uniform/uniform_seed7_resnet32_attack_results_NN.pth.\n",
            "Files already downloaded and verified\n",
            "/usr/local/lib/python3.7/dist-packages/torch/utils/data/dataloader.py:490: UserWarning: This DataLoader will create 4 worker processes in total. Our suggested max number of worker in current system is 2, which is smaller than what this DataLoader is going to create. Please be aware that excessive worker creation might get DataLoader running slow or even freeze, lower the worker number to avoid potential slowness/freeze if necessary.\n",
            "  cpuset_checked))\n",
            "Test PGD untargeted\n",
            "Epsilon: 0\tTest Accuracy = 7613 / 10000 = 0.7613\n",
            "Epsilon: 0.05\tTest Accuracy = 2068 / 10000 = 0.2068\n",
            "Epsilon: 0.1\tTest Accuracy = 2055 / 10000 = 0.2055\n",
            "Epsilon: 0.15\tTest Accuracy = 1999 / 10000 = 0.1999\n",
            "Epsilon: 0.2\tTest Accuracy = 1897 / 10000 = 0.1897\n",
            "Epsilon: 0.25\tTest Accuracy = 1848 / 10000 = 0.1848\n",
            "Epsilon: 0.3\tTest Accuracy = 1781 / 10000 = 0.1781\n",
            "Time: 3601.8280217647552\n"
          ]
        }
      ],
      "source": [
        "start = time.time()\n",
        "! python attack_v3.py --model resnet32 --dataset cifar10 --seed 7 --label uniform --base_dir outputs --label_dir ./labels/label_files/cifar10\n",
        "end = time.time()\n",
        "print(\"Time:\", end-start)"
      ]
    },
    {
      "cell_type": "markdown",
      "metadata": {
        "id": "eOW6kRggzs_o"
      },
      "source": [
        "### Composite"
      ]
    },
    {
      "cell_type": "code",
      "execution_count": null,
      "metadata": {
        "colab": {
          "base_uri": "https://localhost:8080/"
        },
        "outputId": "48efe9dd-372c-4e75-c12b-dca7dd8cba23",
        "id": "cp3hkABBzs_o"
      },
      "outputs": [
        {
          "output_type": "stream",
          "name": "stdout",
          "text": [
            "Start attacking cifar10 composite model (kNN) with manual seed 7 and model resnet32.\n",
            "Best model location: outputs/cifar10/seed7/resnet32/model_composite/composite_seed7_resnet32_best_model.pth.\n",
            "Attack results location: outputs/cifar10/seed7/resnet32/model_composite/composite_seed7_resnet32_attack_results_NN.pth.\n",
            "Files already downloaded and verified\n",
            "/usr/local/lib/python3.7/dist-packages/torch/utils/data/dataloader.py:490: UserWarning: This DataLoader will create 4 worker processes in total. Our suggested max number of worker in current system is 2, which is smaller than what this DataLoader is going to create. Please be aware that excessive worker creation might get DataLoader running slow or even freeze, lower the worker number to avoid potential slowness/freeze if necessary.\n",
            "  cpuset_checked))\n",
            "Test PGD untargeted\n",
            "Epsilon: 0\tTest Accuracy = 8554 / 10000 = 0.8554\n",
            "Epsilon: 0.05\tTest Accuracy = 4264 / 10000 = 0.4264\n",
            "Epsilon: 0.1\tTest Accuracy = 4124 / 10000 = 0.4124\n",
            "Epsilon: 0.15\tTest Accuracy = 3980 / 10000 = 0.398\n",
            "Epsilon: 0.2\tTest Accuracy = 3855 / 10000 = 0.3855\n",
            "Epsilon: 0.25\tTest Accuracy = 3662 / 10000 = 0.3662\n",
            "Epsilon: 0.3\tTest Accuracy = 3547 / 10000 = 0.3547\n",
            "Time: 3906.67462015152\n"
          ]
        }
      ],
      "source": [
        "start = time.time()\n",
        "! python attack_v3.py --model resnet32 --dataset cifar10 --seed 7 --label composite --base_dir outputs --label_dir ./labels/label_files/cifar10\n",
        "end = time.time()\n",
        "print(\"Time:\", end-start)"
      ]
    },
    {
      "cell_type": "markdown",
      "metadata": {
        "id": "c7XxjRvazs_8"
      },
      "source": [
        "### Bert"
      ]
    },
    {
      "cell_type": "code",
      "execution_count": null,
      "metadata": {
        "colab": {
          "base_uri": "https://localhost:8080/"
        },
        "outputId": "f0b71321-5cc0-4afc-cdee-bd441d5efa04",
        "id": "ECYuVTp3zs_9"
      },
      "outputs": [
        {
          "output_type": "stream",
          "name": "stdout",
          "text": [
            "Start attacking cifar10 bert model (kNN) with manual seed 7 and model resnet32.\n",
            "Best model location: outputs/cifar10/seed7/resnet32/model_bert/bert_seed7_resnet32_best_model.pth.\n",
            "Attack results location: outputs/cifar10/seed7/resnet32/model_bert/bert_seed7_resnet32_attack_results_NN.pth.\n",
            "Files already downloaded and verified\n",
            "/usr/local/lib/python3.7/dist-packages/torch/utils/data/dataloader.py:490: UserWarning: This DataLoader will create 4 worker processes in total. Our suggested max number of worker in current system is 2, which is smaller than what this DataLoader is going to create. Please be aware that excessive worker creation might get DataLoader running slow or even freeze, lower the worker number to avoid potential slowness/freeze if necessary.\n",
            "  cpuset_checked))\n",
            "Test PGD untargeted\n",
            "Epsilon: 0\tTest Accuracy = 8753 / 10000 = 0.8753\n",
            "Epsilon: 0.05\tTest Accuracy = 1691 / 10000 = 0.1691\n",
            "Epsilon: 0.1\tTest Accuracy = 1494 / 10000 = 0.1494\n",
            "Epsilon: 0.15\tTest Accuracy = 1368 / 10000 = 0.1368\n",
            "Epsilon: 0.2\tTest Accuracy = 1232 / 10000 = 0.1232\n",
            "Epsilon: 0.25\tTest Accuracy = 1132 / 10000 = 0.1132\n",
            "Epsilon: 0.3\tTest Accuracy = 1046 / 10000 = 0.1046\n",
            "Time: 4021.435065984726\n"
          ]
        }
      ],
      "source": [
        "start = time.time()\n",
        "! python attack_v3.py --model resnet32 --dataset cifar10 --seed 7 --label bert --base_dir outputs --label_dir ./labels/label_files/cifar10\n",
        "end = time.time()\n",
        "print(\"Time:\", end-start)"
      ]
    },
    {
      "cell_type": "markdown",
      "metadata": {
        "id": "oGVxH48tf-Q5"
      },
      "source": [
        "### Random"
      ]
    },
    {
      "cell_type": "code",
      "execution_count": null,
      "metadata": {
        "id": "npyRhF_CgoDe",
        "colab": {
          "base_uri": "https://localhost:8080/"
        },
        "outputId": "c3ab7ddc-7059-4584-f119-24fc0039ee89"
      },
      "outputs": [
        {
          "output_type": "stream",
          "name": "stdout",
          "text": [
            "Start attacking cifar10 random model (kNN) with manual seed 7 and model resnet32.\n",
            "Best model location: outputs/cifar10/seed7/resnet32/model_random/random_seed7_resnet32_best_model.pth.\n",
            "Attack results location: outputs/cifar10/seed7/resnet32/model_random/random_seed7_resnet32_attack_results_NN.pth.\n",
            "Files already downloaded and verified\n",
            "/usr/local/lib/python3.7/dist-packages/torch/utils/data/dataloader.py:490: UserWarning: This DataLoader will create 4 worker processes in total. Our suggested max number of worker in current system is 2, which is smaller than what this DataLoader is going to create. Please be aware that excessive worker creation might get DataLoader running slow or even freeze, lower the worker number to avoid potential slowness/freeze if necessary.\n",
            "  cpuset_checked))\n",
            "Test PGD untargeted\n",
            "Epsilon: 0\tTest Accuracy = 8456 / 10000 = 0.8456\n",
            "Epsilon: 0.05\tTest Accuracy = 3525 / 10000 = 0.3525\n",
            "Epsilon: 0.1\tTest Accuracy = 3488 / 10000 = 0.3488\n",
            "Epsilon: 0.15\tTest Accuracy = 3414 / 10000 = 0.3414\n",
            "Epsilon: 0.2\tTest Accuracy = 3325 / 10000 = 0.3325\n",
            "Epsilon: 0.25\tTest Accuracy = 3242 / 10000 = 0.3242\n",
            "Epsilon: 0.3\tTest Accuracy = 3169 / 10000 = 0.3169\n",
            "Time: 3940.251496553421\n"
          ]
        }
      ],
      "source": [
        "start = time.time()\n",
        "! python attack_v3.py --model resnet32 --dataset cifar10 --seed 7 --label random --base_dir outputs --label_dir ./labels/label_files/cifar10\n",
        "end = time.time()\n",
        "print(\"Time:\", end-start)"
      ]
    },
    {
      "cell_type": "markdown",
      "metadata": {
        "id": "7R2MVgACf0Eb"
      },
      "source": [
        "## Low-Dim"
      ]
    },
    {
      "cell_type": "markdown",
      "metadata": {
        "id": "I-RtlrAlgJnT"
      },
      "source": [
        "### Lowdim"
      ]
    },
    {
      "cell_type": "code",
      "execution_count": null,
      "metadata": {
        "id": "C2mCXy__gowz",
        "colab": {
          "base_uri": "https://localhost:8080/"
        },
        "outputId": "47c02a41-9633-4e2e-8587-a3fa8f9ced4b"
      },
      "outputs": [
        {
          "output_type": "stream",
          "name": "stdout",
          "text": [
            "Start attacking cifar10 lowdim model (kNN) with manual seed 7 and model resnet32.\n",
            "Best model location: outputs/cifar10/seed7/resnet32/model_lowdim/lowdim_seed7_resnet32_best_model.pth.\n",
            "Attack results location: outputs/cifar10/seed7/resnet32/model_lowdim/lowdim_seed7_resnet32_attack_results_NN.pth.\n",
            "Files already downloaded and verified\n",
            "/usr/local/lib/python3.7/dist-packages/torch/utils/data/dataloader.py:490: UserWarning: This DataLoader will create 4 worker processes in total. Our suggested max number of worker in current system is 2, which is smaller than what this DataLoader is going to create. Please be aware that excessive worker creation might get DataLoader running slow or even freeze, lower the worker number to avoid potential slowness/freeze if necessary.\n",
            "  cpuset_checked))\n",
            "Test PGD untargeted\n",
            "Epsilon: 0\tTest Accuracy = 8529 / 10000 = 0.8529\n",
            "Epsilon: 0.05\tTest Accuracy = 3889 / 10000 = 0.3889\n",
            "Epsilon: 0.1\tTest Accuracy = 3799 / 10000 = 0.3799\n",
            "Epsilon: 0.15\tTest Accuracy = 3656 / 10000 = 0.3656\n",
            "Epsilon: 0.2\tTest Accuracy = 3492 / 10000 = 0.3492\n",
            "Epsilon: 0.25\tTest Accuracy = 3330 / 10000 = 0.333\n",
            "Epsilon: 0.3\tTest Accuracy = 3223 / 10000 = 0.3223\n",
            "Time: 3439.1214871406555\n"
          ]
        }
      ],
      "source": [
        "start = time.time()\n",
        "! python attack_v3.py --model resnet32 --dataset cifar10 --seed 7 --label lowdim --base_dir outputs --label_dir ./labels/label_files/cifar10\n",
        "end = time.time()\n",
        "print(\"Time:\", end-start)"
      ]
    },
    {
      "cell_type": "markdown",
      "metadata": {
        "id": "vkn-uchlgLiQ"
      },
      "source": [
        "### Glove"
      ]
    },
    {
      "cell_type": "code",
      "execution_count": null,
      "metadata": {
        "id": "ZXnuDBeYgpfn",
        "colab": {
          "base_uri": "https://localhost:8080/"
        },
        "outputId": "5b4aa974-e742-4302-a854-e96f0b51969b"
      },
      "outputs": [
        {
          "output_type": "stream",
          "name": "stdout",
          "text": [
            "Start attacking cifar10 glove model (kNN) with manual seed 7 and model resnet32.\n",
            "Best model location: outputs/cifar10/seed7/resnet32/model_glove/glove_seed7_resnet32_best_model.pth.\n",
            "Attack results location: outputs/cifar10/seed7/resnet32/model_glove/glove_seed7_resnet32_attack_results_NN.pth.\n",
            "Files already downloaded and verified\n",
            "/usr/local/lib/python3.7/dist-packages/torch/utils/data/dataloader.py:490: UserWarning: This DataLoader will create 4 worker processes in total. Our suggested max number of worker in current system is 2, which is smaller than what this DataLoader is going to create. Please be aware that excessive worker creation might get DataLoader running slow or even freeze, lower the worker number to avoid potential slowness/freeze if necessary.\n",
            "  cpuset_checked))\n",
            "Test PGD untargeted\n",
            "Epsilon: 0\tTest Accuracy = 8737 / 10000 = 0.8737\n",
            "Epsilon: 0.05\tTest Accuracy = 1702 / 10000 = 0.1702\n",
            "Epsilon: 0.1\tTest Accuracy = 1437 / 10000 = 0.1437\n",
            "Epsilon: 0.15\tTest Accuracy = 1311 / 10000 = 0.1311\n",
            "Epsilon: 0.2\tTest Accuracy = 1194 / 10000 = 0.1194\n",
            "Epsilon: 0.25\tTest Accuracy = 1064 / 10000 = 0.1064\n",
            "Epsilon: 0.3\tTest Accuracy = 952 / 10000 = 0.0952\n",
            "Time: 3599.3405363559723\n"
          ]
        }
      ],
      "source": [
        "start = time.time()\n",
        "! python attack_v3.py --model resnet32 --dataset cifar10 --seed 7 --label glove --base_dir outputs --label_dir ./labels/label_files/cifar10\n",
        "end = time.time()\n",
        "print(\"Time:\", end-start)"
      ]
    },
    {
      "cell_type": "markdown",
      "source": [
        "# Step 2. Entropy Experiments"
      ],
      "metadata": {
        "id": "UcAE8SVmJxC3"
      }
    },
    {
      "cell_type": "markdown",
      "source": [
        "### Dimension = 5"
      ],
      "metadata": {
        "id": "kwtjwifLQzL5"
      }
    },
    {
      "cell_type": "code",
      "source": [
        "start = time.time()\n",
        "! python attack_v3.py --model resnet32 --dataset cifar10 --seed 7 --label normal_dim=5 --base_dir outputs --label_dir ./labels/label_files/entropy\n",
        "end = time.time()\n",
        "print(\"Time:\", end-start)"
      ],
      "metadata": {
        "colab": {
          "base_uri": "https://localhost:8080/"
        },
        "id": "F7LWmAM1QkZt",
        "outputId": "ad8fbea7-e950-4729-be20-24e62cf64d80"
      },
      "execution_count": null,
      "outputs": [
        {
          "output_type": "stream",
          "name": "stdout",
          "text": [
            "Start attacking cifar10 normal_dim=5 model (kNN) with manual seed 7 and model resnet32.\n",
            "Best model location: outputs/cifar10/seed7/resnet32/model_normal_dim=5/normal_dim=5_seed7_resnet32_best_model.pth.\n",
            "Attack results location: outputs/cifar10/seed7/resnet32/model_normal_dim=5/normal_dim=5_seed7_resnet32_attack_results_NN.pth.\n",
            "Files already downloaded and verified\n",
            "/usr/local/lib/python3.7/dist-packages/torch/utils/data/dataloader.py:490: UserWarning: This DataLoader will create 4 worker processes in total. Our suggested max number of worker in current system is 2, which is smaller than what this DataLoader is going to create. Please be aware that excessive worker creation might get DataLoader running slow or even freeze, lower the worker number to avoid potential slowness/freeze if necessary.\n",
            "  cpuset_checked))\n",
            "Test PGD untargeted\n",
            "Epsilon: 0\tTest Accuracy = 7549 / 10000 = 0.7549\n",
            "Epsilon: 0.05\tTest Accuracy = 2089 / 10000 = 0.2089\n",
            "Epsilon: 0.1\tTest Accuracy = 2000 / 10000 = 0.2\n",
            "Epsilon: 0.15\tTest Accuracy = 1906 / 10000 = 0.1906\n",
            "Epsilon: 0.2\tTest Accuracy = 1835 / 10000 = 0.1835\n",
            "Epsilon: 0.25\tTest Accuracy = 1771 / 10000 = 0.1771\n",
            "Epsilon: 0.3\tTest Accuracy = 1694 / 10000 = 0.1694\n",
            "Time: 3121.031676054001\n"
          ]
        }
      ]
    },
    {
      "cell_type": "markdown",
      "source": [
        "### Dimension = 50"
      ],
      "metadata": {
        "id": "LYn7psNYRSwg"
      }
    },
    {
      "cell_type": "code",
      "source": [
        "start = time.time()\n",
        "! python attack_v3.py --model resnet32 --dataset cifar10 --seed 7 --label normal_dim=50 --base_dir outputs --label_dir ./labels/label_files/entropy\n",
        "end = time.time()\n",
        "print(\"Time:\", end-start)"
      ],
      "metadata": {
        "colab": {
          "base_uri": "https://localhost:8080/"
        },
        "id": "0SRunbD5RDrE",
        "outputId": "5617d3b5-2e0b-461e-e30f-67fb14d1a44c"
      },
      "execution_count": null,
      "outputs": [
        {
          "output_type": "stream",
          "name": "stdout",
          "text": [
            "Start attacking cifar10 normal_dim=50 model (kNN) with manual seed 7 and model resnet32.\n",
            "Best model location: outputs/cifar10/seed7/resnet32/model_normal_dim=50/normal_dim=50_seed7_resnet32_best_model.pth.\n",
            "Attack results location: outputs/cifar10/seed7/resnet32/model_normal_dim=50/normal_dim=50_seed7_resnet32_attack_results_NN.pth.\n",
            "Files already downloaded and verified\n",
            "/usr/local/lib/python3.7/dist-packages/torch/utils/data/dataloader.py:490: UserWarning: This DataLoader will create 4 worker processes in total. Our suggested max number of worker in current system is 2, which is smaller than what this DataLoader is going to create. Please be aware that excessive worker creation might get DataLoader running slow or even freeze, lower the worker number to avoid potential slowness/freeze if necessary.\n",
            "  cpuset_checked))\n",
            "Test PGD untargeted\n",
            "Epsilon: 0\tTest Accuracy = 7513 / 10000 = 0.7513\n",
            "Epsilon: 0.05\tTest Accuracy = 2474 / 10000 = 0.2474\n",
            "Epsilon: 0.1\tTest Accuracy = 2401 / 10000 = 0.2401\n",
            "Epsilon: 0.15\tTest Accuracy = 2296 / 10000 = 0.2296\n",
            "Epsilon: 0.2\tTest Accuracy = 2170 / 10000 = 0.217\n",
            "Epsilon: 0.25\tTest Accuracy = 2088 / 10000 = 0.2088\n",
            "Epsilon: 0.3\tTest Accuracy = 2077 / 10000 = 0.2077\n",
            "Time: 3125.5640699863434\n"
          ]
        }
      ]
    },
    {
      "cell_type": "markdown",
      "source": [
        "### Dimension = 200"
      ],
      "metadata": {
        "id": "0L6x_EVERVBE"
      }
    },
    {
      "cell_type": "code",
      "source": [
        "start = time.time()\n",
        "! python attack_v3.py --model resnet32 --dataset cifar10 --seed 7 --label normal_dim=200 --base_dir outputs --label_dir ./labels/label_files/entropy\n",
        "end = time.time()\n",
        "print(\"Time:\", end-start)"
      ],
      "metadata": {
        "colab": {
          "base_uri": "https://localhost:8080/"
        },
        "id": "gMDNOqfFRFSH",
        "outputId": "bf946f0c-400d-4344-b7be-2745aac3298b"
      },
      "execution_count": null,
      "outputs": [
        {
          "output_type": "stream",
          "name": "stdout",
          "text": [
            "Start attacking cifar10 normal_dim=200 model (kNN) with manual seed 7 and model resnet32.\n",
            "Best model location: outputs/cifar10/seed7/resnet32/model_normal_dim=200/normal_dim=200_seed7_resnet32_best_model.pth.\n",
            "Attack results location: outputs/cifar10/seed7/resnet32/model_normal_dim=200/normal_dim=200_seed7_resnet32_attack_results_NN.pth.\n",
            "Files already downloaded and verified\n",
            "/usr/local/lib/python3.7/dist-packages/torch/utils/data/dataloader.py:490: UserWarning: This DataLoader will create 4 worker processes in total. Our suggested max number of worker in current system is 2, which is smaller than what this DataLoader is going to create. Please be aware that excessive worker creation might get DataLoader running slow or even freeze, lower the worker number to avoid potential slowness/freeze if necessary.\n",
            "  cpuset_checked))\n",
            "Test PGD untargeted\n",
            "Epsilon: 0\tTest Accuracy = 7476 / 10000 = 0.7476\n",
            "Epsilon: 0.05\tTest Accuracy = 2516 / 10000 = 0.2516\n",
            "Epsilon: 0.1\tTest Accuracy = 2411 / 10000 = 0.2411\n",
            "Epsilon: 0.15\tTest Accuracy = 2311 / 10000 = 0.2311\n",
            "Epsilon: 0.2\tTest Accuracy = 2128 / 10000 = 0.2128\n",
            "Epsilon: 0.25\tTest Accuracy = 2013 / 10000 = 0.2013\n",
            "Epsilon: 0.3\tTest Accuracy = 1888 / 10000 = 0.1888\n",
            "Time: 3047.9179055690765\n"
          ]
        }
      ]
    },
    {
      "cell_type": "markdown",
      "source": [
        "### Dimension = 1000"
      ],
      "metadata": {
        "id": "mToIzgJfRWOF"
      }
    },
    {
      "cell_type": "code",
      "source": [
        "start = time.time()\n",
        "! python attack_v3.py --model resnet32 --dataset cifar10 --seed 7 --label normal_dim=1000 --base_dir outputs --label_dir ./labels/label_files/entropy\n",
        "end = time.time()\n",
        "print(\"Time:\", end-start)"
      ],
      "metadata": {
        "colab": {
          "base_uri": "https://localhost:8080/"
        },
        "id": "3KFmTjS-RF4N",
        "outputId": "8d864c68-f35b-4ea5-f6b5-9bd779bb9b81"
      },
      "execution_count": null,
      "outputs": [
        {
          "output_type": "stream",
          "name": "stdout",
          "text": [
            "Start attacking cifar10 normal_dim=1000 model (kNN) with manual seed 7 and model resnet32.\n",
            "Best model location: outputs/cifar10/seed7/resnet32/model_normal_dim=1000/normal_dim=1000_seed7_resnet32_best_model.pth.\n",
            "Attack results location: outputs/cifar10/seed7/resnet32/model_normal_dim=1000/normal_dim=1000_seed7_resnet32_attack_results_NN.pth.\n",
            "Files already downloaded and verified\n",
            "/usr/local/lib/python3.7/dist-packages/torch/utils/data/dataloader.py:490: UserWarning: This DataLoader will create 4 worker processes in total. Our suggested max number of worker in current system is 2, which is smaller than what this DataLoader is going to create. Please be aware that excessive worker creation might get DataLoader running slow or even freeze, lower the worker number to avoid potential slowness/freeze if necessary.\n",
            "  cpuset_checked))\n",
            "Test PGD untargeted\n",
            "Epsilon: 0\tTest Accuracy = 7612 / 10000 = 0.7612\n",
            "Epsilon: 0.05\tTest Accuracy = 2818 / 10000 = 0.2818\n",
            "Epsilon: 0.1\tTest Accuracy = 2669 / 10000 = 0.2669\n",
            "Epsilon: 0.15\tTest Accuracy = 2544 / 10000 = 0.2544\n",
            "Epsilon: 0.2\tTest Accuracy = 2439 / 10000 = 0.2439\n",
            "Epsilon: 0.25\tTest Accuracy = 2384 / 10000 = 0.2384\n",
            "Epsilon: 0.3\tTest Accuracy = 2264 / 10000 = 0.2264\n",
            "Time: 3141.591322183609\n"
          ]
        }
      ]
    },
    {
      "cell_type": "markdown",
      "source": [
        "### Dimension = 4000"
      ],
      "metadata": {
        "id": "2KjXaHE9RXaE"
      }
    },
    {
      "cell_type": "code",
      "source": [
        "start = time.time()\n",
        "! python attack_v3.py --model resnet32 --dataset cifar10 --seed 7 --label normal_dim=4000 --base_dir outputs --label_dir ./labels/label_files/entropy\n",
        "end = time.time()\n",
        "print(\"Time:\", end-start)"
      ],
      "metadata": {
        "colab": {
          "base_uri": "https://localhost:8080/"
        },
        "id": "hFo6JyluRGf_",
        "outputId": "93e342b2-e241-4b09-d996-c60bddca1e47"
      },
      "execution_count": null,
      "outputs": [
        {
          "output_type": "stream",
          "name": "stdout",
          "text": [
            "Start attacking cifar10 normal_dim=4000 model (kNN) with manual seed 7 and model resnet32.\n",
            "Best model location: outputs/cifar10/seed7/resnet32/model_normal_dim=4000/normal_dim=4000_seed7_resnet32_best_model.pth.\n",
            "Attack results location: outputs/cifar10/seed7/resnet32/model_normal_dim=4000/normal_dim=4000_seed7_resnet32_attack_results_NN.pth.\n",
            "Files already downloaded and verified\n",
            "/usr/local/lib/python3.7/dist-packages/torch/utils/data/dataloader.py:490: UserWarning: This DataLoader will create 4 worker processes in total. Our suggested max number of worker in current system is 2, which is smaller than what this DataLoader is going to create. Please be aware that excessive worker creation might get DataLoader running slow or even freeze, lower the worker number to avoid potential slowness/freeze if necessary.\n",
            "  cpuset_checked))\n",
            "Test PGD untargeted\n",
            "Epsilon: 0\tTest Accuracy = 7631 / 10000 = 0.7631\n",
            "Epsilon: 0.05\tTest Accuracy = 2621 / 10000 = 0.2621\n",
            "Epsilon: 0.1\tTest Accuracy = 2442 / 10000 = 0.2442\n",
            "Epsilon: 0.15\tTest Accuracy = 2344 / 10000 = 0.2344\n",
            "Epsilon: 0.2\tTest Accuracy = 2234 / 10000 = 0.2234\n",
            "Epsilon: 0.25\tTest Accuracy = 2085 / 10000 = 0.2085\n",
            "Epsilon: 0.3\tTest Accuracy = 1931 / 10000 = 0.1931\n",
            "Time: 3190.327882051468\n"
          ]
        }
      ]
    },
    {
      "cell_type": "markdown",
      "source": [
        "# Step 3. Overlap between Classes"
      ],
      "metadata": {
        "id": "pofS2UB1J8sb"
      }
    },
    {
      "cell_type": "markdown",
      "source": [
        "### Gap = 10"
      ],
      "metadata": {
        "id": "D3ma7p1MQnaw"
      }
    },
    {
      "cell_type": "code",
      "source": [
        "start = time.time()\n",
        "! python attack_v3.py --model resnet32 --dataset cifar10 --seed 7 --label uniform_gap=10 --base_dir outputs --label_dir ./labels/label_files/overlap\n",
        "end = time.time()\n",
        "print(\"Time:\", end-start)"
      ],
      "metadata": {
        "colab": {
          "base_uri": "https://localhost:8080/"
        },
        "id": "1UP87czRJ8SA",
        "outputId": "b9f5a2b1-9bcb-4e61-f95d-81ff1ec7c069"
      },
      "execution_count": null,
      "outputs": [
        {
          "output_type": "stream",
          "name": "stdout",
          "text": [
            "Start attacking cifar10 uniform_gap=10 model (kNN) with manual seed 7 and model resnet32.\n",
            "Best model location: outputs/cifar10/seed7/resnet32/model_uniform_gap=10/uniform_gap=10_seed7_resnet32_best_model.pth.\n",
            "Attack results location: outputs/cifar10/seed7/resnet32/model_uniform_gap=10/uniform_gap=10_seed7_resnet32_attack_results_NN.pth.\n",
            "Files already downloaded and verified\n",
            "/usr/local/lib/python3.7/dist-packages/torch/utils/data/dataloader.py:490: UserWarning: This DataLoader will create 4 worker processes in total. Our suggested max number of worker in current system is 2, which is smaller than what this DataLoader is going to create. Please be aware that excessive worker creation might get DataLoader running slow or even freeze, lower the worker number to avoid potential slowness/freeze if necessary.\n",
            "  cpuset_checked))\n",
            "Test PGD untargeted\n",
            "Epsilon: 0\tTest Accuracy = 7915 / 10000 = 0.7915\n",
            "Epsilon: 0.05\tTest Accuracy = 3409 / 10000 = 0.3409\n",
            "Epsilon: 0.1\tTest Accuracy = 3332 / 10000 = 0.3332\n",
            "Epsilon: 0.15\tTest Accuracy = 3247 / 10000 = 0.3247\n",
            "Epsilon: 0.2\tTest Accuracy = 3121 / 10000 = 0.3121\n",
            "Epsilon: 0.25\tTest Accuracy = 3031 / 10000 = 0.3031\n",
            "Epsilon: 0.3\tTest Accuracy = 2881 / 10000 = 0.2881\n",
            "Time: 3258.794453382492\n"
          ]
        }
      ]
    },
    {
      "cell_type": "markdown",
      "source": [
        "### Gap = 1"
      ],
      "metadata": {
        "id": "DrbjiVqfR0Xc"
      }
    },
    {
      "cell_type": "code",
      "source": [
        "start = time.time()\n",
        "! python attack_v3.py --model resnet32 --dataset cifar10 --seed 7 --label uniform_gap=1 --base_dir outputs --label_dir ./labels/label_files/overlap\n",
        "end = time.time()\n",
        "print(\"Time:\", end-start)"
      ],
      "metadata": {
        "colab": {
          "base_uri": "https://localhost:8080/"
        },
        "id": "OduWgOE8RsMA",
        "outputId": "a780b4f0-8169-45b3-d4f0-a8933763170d"
      },
      "execution_count": null,
      "outputs": [
        {
          "output_type": "stream",
          "name": "stdout",
          "text": [
            "Start attacking cifar10 uniform_gap=1 model (kNN) with manual seed 7 and model resnet32.\n",
            "Best model location: outputs/cifar10/seed7/resnet32/model_uniform_gap=1/uniform_gap=1_seed7_resnet32_best_model.pth.\n",
            "Attack results location: outputs/cifar10/seed7/resnet32/model_uniform_gap=1/uniform_gap=1_seed7_resnet32_attack_results_NN.pth.\n",
            "Files already downloaded and verified\n",
            "/usr/local/lib/python3.7/dist-packages/torch/utils/data/dataloader.py:490: UserWarning: This DataLoader will create 4 worker processes in total. Our suggested max number of worker in current system is 2, which is smaller than what this DataLoader is going to create. Please be aware that excessive worker creation might get DataLoader running slow or even freeze, lower the worker number to avoid potential slowness/freeze if necessary.\n",
            "  cpuset_checked))\n",
            "Test PGD untargeted\n",
            "Epsilon: 0\tTest Accuracy = 8587 / 10000 = 0.8587\n",
            "Epsilon: 0.05\tTest Accuracy = 3803 / 10000 = 0.3803\n",
            "Epsilon: 0.1\tTest Accuracy = 3635 / 10000 = 0.3635\n",
            "Epsilon: 0.15\tTest Accuracy = 3465 / 10000 = 0.3465\n",
            "Epsilon: 0.2\tTest Accuracy = 3338 / 10000 = 0.3338\n",
            "Epsilon: 0.25\tTest Accuracy = 3208 / 10000 = 0.3208\n",
            "Epsilon: 0.3\tTest Accuracy = 3052 / 10000 = 0.3052\n",
            "Time: 3487.8071472644806\n"
          ]
        }
      ]
    },
    {
      "cell_type": "markdown",
      "source": [
        "### Gap = 0.1"
      ],
      "metadata": {
        "id": "mKtPhi2lR3UT"
      }
    },
    {
      "cell_type": "code",
      "source": [
        "start = time.time()\n",
        "! python attack_v3.py --model resnet32 --dataset cifar10 --seed 7 --label uniform_gap=0.1 --base_dir outputs --label_dir ./labels/label_files/overlap\n",
        "end = time.time()\n",
        "print(\"Time:\", end-start)"
      ],
      "metadata": {
        "colab": {
          "base_uri": "https://localhost:8080/"
        },
        "id": "6n0B7CjfRsv9",
        "outputId": "668c81bc-01aa-4f55-e858-50d75d42b3ce"
      },
      "execution_count": null,
      "outputs": [
        {
          "output_type": "stream",
          "name": "stdout",
          "text": [
            "Start attacking cifar10 uniform_gap=0.1 model (kNN) with manual seed 7 and model resnet32.\n",
            "Best model location: outputs/cifar10/seed7/resnet32/model_uniform_gap=0.1/uniform_gap=0.1_seed7_resnet32_best_model.pth.\n",
            "Attack results location: outputs/cifar10/seed7/resnet32/model_uniform_gap=0.1/uniform_gap=0.1_seed7_resnet32_attack_results_NN.pth.\n",
            "Files already downloaded and verified\n",
            "/usr/local/lib/python3.7/dist-packages/torch/utils/data/dataloader.py:490: UserWarning: This DataLoader will create 4 worker processes in total. Our suggested max number of worker in current system is 2, which is smaller than what this DataLoader is going to create. Please be aware that excessive worker creation might get DataLoader running slow or even freeze, lower the worker number to avoid potential slowness/freeze if necessary.\n",
            "  cpuset_checked))\n",
            "Test PGD untargeted\n",
            "Epsilon: 0\tTest Accuracy = 8691 / 10000 = 0.8691\n",
            "Epsilon: 0.05\tTest Accuracy = 3822 / 10000 = 0.3822\n",
            "Epsilon: 0.1\tTest Accuracy = 3734 / 10000 = 0.3734\n",
            "Epsilon: 0.15\tTest Accuracy = 3592 / 10000 = 0.3592\n",
            "Epsilon: 0.2\tTest Accuracy = 3385 / 10000 = 0.3385\n",
            "Epsilon: 0.25\tTest Accuracy = 3262 / 10000 = 0.3262\n",
            "Epsilon: 0.3\tTest Accuracy = 3057 / 10000 = 0.3057\n",
            "Time: 3571.557715654373\n"
          ]
        }
      ]
    },
    {
      "cell_type": "markdown",
      "source": [
        "### Gap = 0"
      ],
      "metadata": {
        "id": "wTW7sAZmR4Dc"
      }
    },
    {
      "cell_type": "code",
      "source": [
        "start = time.time()\n",
        "! python attack_v3.py --model resnet32 --dataset cifar10 --seed 7 --label uniform_gap=0 --base_dir outputs --label_dir ./labels/label_files/overlap\n",
        "end = time.time()\n",
        "print(\"Time:\", end-start)"
      ],
      "metadata": {
        "colab": {
          "base_uri": "https://localhost:8080/"
        },
        "id": "n7ugVfFjRtUy",
        "outputId": "6307c24c-9cb0-4a8b-ee80-b4fcec823383"
      },
      "execution_count": null,
      "outputs": [
        {
          "output_type": "stream",
          "name": "stdout",
          "text": [
            "Start attacking cifar10 uniform_gap=0 model (kNN) with manual seed 7 and model resnet32.\n",
            "Best model location: outputs/cifar10/seed7/resnet32/model_uniform_gap=0/uniform_gap=0_seed7_resnet32_best_model.pth.\n",
            "Attack results location: outputs/cifar10/seed7/resnet32/model_uniform_gap=0/uniform_gap=0_seed7_resnet32_attack_results_NN.pth.\n",
            "Files already downloaded and verified\n",
            "/usr/local/lib/python3.7/dist-packages/torch/utils/data/dataloader.py:490: UserWarning: This DataLoader will create 4 worker processes in total. Our suggested max number of worker in current system is 2, which is smaller than what this DataLoader is going to create. Please be aware that excessive worker creation might get DataLoader running slow or even freeze, lower the worker number to avoid potential slowness/freeze if necessary.\n",
            "  cpuset_checked))\n",
            "Test PGD untargeted\n",
            "Epsilon: 0\tTest Accuracy = 8740 / 10000 = 0.874\n",
            "Epsilon: 0.05\tTest Accuracy = 4051 / 10000 = 0.4051\n",
            "Epsilon: 0.1\tTest Accuracy = 3962 / 10000 = 0.3962\n",
            "Epsilon: 0.15\tTest Accuracy = 3824 / 10000 = 0.3824\n",
            "Epsilon: 0.2\tTest Accuracy = 3691 / 10000 = 0.3691\n",
            "Epsilon: 0.25\tTest Accuracy = 3496 / 10000 = 0.3496\n",
            "Epsilon: 0.3\tTest Accuracy = 3327 / 10000 = 0.3327\n",
            "Time: 3556.9771461486816\n"
          ]
        }
      ]
    }
  ]
}