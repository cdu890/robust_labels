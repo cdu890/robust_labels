{
  "nbformat": 4,
  "nbformat_minor": 0,
  "metadata": {
    "colab": {
      "name": "attacks_vgg19.ipynb",
      "provenance": [],
      "machine_shape": "hm"
    },
    "kernelspec": {
      "name": "python3",
      "display_name": "Python 3"
    },
    "language_info": {
      "name": "python"
    },
    "accelerator": "GPU"
  },
  "cells": [
    {
      "cell_type": "markdown",
      "source": [
        "# Attacks (FGSM and Iterative)\n",
        "\n",
        "This notebook has code to generate and test performance on FGSM and iterative attacks for categorical and high-dimentional labels"
      ],
      "metadata": {
        "id": "Jqx7Df4el6G5"
      }
    },
    {
      "cell_type": "code",
      "source": [
        "import os\n",
        "import time\n",
        "from google.colab import drive\n",
        "\n",
        "drive.mount('/gdrive')"
      ],
      "metadata": {
        "colab": {
          "base_uri": "https://localhost:8080/"
        },
        "id": "0MAi9urxmbio",
        "outputId": "7a36ffad-1683-499f-c84c-c9e3212dfb41"
      },
      "execution_count": 1,
      "outputs": [
        {
          "output_type": "stream",
          "name": "stdout",
          "text": [
            "Mounted at /gdrive\n"
          ]
        }
      ]
    },
    {
      "cell_type": "markdown",
      "source": [
        "## Categorical Labels\n",
        "\n",
        "The following attacks are performed for categorical labels:\n",
        "\n",
        "- FGSM untargeted\n",
        "- FGSM targeted\n",
        "- Test iterative untargeted\n",
        "- Test iterative targeted"
      ],
      "metadata": {
        "id": "bmZzEKJPmNjO"
      }
    },
    {
      "cell_type": "code",
      "source": [
        "start = time.time()\n",
        "! python /gdrive/MyDrive/practical_deep_learning/project/original_experiments/attack.py --model vgg19 --dataset cifar10 --seed 7 --label category --base_dir /gdrive/MyDrive/practical_deep_learning/project/outputs --label_dir /gdrive/MyDrive/practical_deep_learning/project/original_experiments/labels/label_files/\n",
        "end = time.time()\n",
        "print(\"Time:\", end-start)"
      ],
      "metadata": {
        "colab": {
          "base_uri": "https://localhost:8080/"
        },
        "id": "MP5h4tPDmKWc",
        "outputId": "fe839860-3cb2-4012-d8c6-676bea7ba996"
      },
      "execution_count": 2,
      "outputs": [
        {
          "output_type": "stream",
          "name": "stdout",
          "text": [
            "Start attacking cifar10 category model (kNN) with manual seed 7 and model vgg19.\n",
            "Best model location: /gdrive/MyDrive/practical_deep_learning/project/outputs/cifar10/seed7/vgg19/model_category/category_seed7_vgg19_best_model.pth.\n",
            "Attack results location: /gdrive/MyDrive/practical_deep_learning/project/outputs/cifar10/seed7/vgg19/model_category/category_seed7_vgg19_attack_results_NN.pth.\n",
            "Downloading https://www.cs.toronto.edu/~kriz/cifar-10-python.tar.gz to ./data/cifar-10-python.tar.gz\n",
            "170499072it [00:03, 49275721.06it/s]                   \n",
            "Extracting ./data/cifar-10-python.tar.gz to ./data\n",
            "Test FGSM untargeted\n",
            "Epsilon: 0\tTest Accuracy = 8806 / 10000 = 0.8806\n",
            "Epsilon: 0.05\tTest Accuracy = 2332 / 10000 = 0.2332\n",
            "Epsilon: 0.1\tTest Accuracy = 1032 / 10000 = 0.1032\n",
            "Epsilon: 0.15\tTest Accuracy = 736 / 10000 = 0.0736\n",
            "Epsilon: 0.2\tTest Accuracy = 636 / 10000 = 0.0636\n",
            "Epsilon: 0.25\tTest Accuracy = 612 / 10000 = 0.0612\n",
            "Epsilon: 0.3\tTest Accuracy = 642 / 10000 = 0.0642\n",
            "Test FGSM targeted\n",
            "Epsilon: 0\tTest Accuracy = 8806 / 10000 = 0.8806\n",
            "Epsilon: 0.05\tTest Accuracy = 2576 / 10000 = 0.2576\n",
            "Epsilon: 0.1\tTest Accuracy = 1155 / 10000 = 0.1155\n",
            "Epsilon: 0.15\tTest Accuracy = 743 / 10000 = 0.0743\n",
            "Epsilon: 0.2\tTest Accuracy = 658 / 10000 = 0.0658\n",
            "Epsilon: 0.25\tTest Accuracy = 628 / 10000 = 0.0628\n",
            "Epsilon: 0.3\tTest Accuracy = 634 / 10000 = 0.0634\n",
            "Test iterative untargeted\n",
            "Epsilon: 0\tTest Accuracy = 8806 / 10000 = 0.8806\n",
            "Epsilon: 0.05\tTest Accuracy = 964 / 10000 = 0.0964\n",
            "Epsilon: 0.1\tTest Accuracy = 39 / 10000 = 0.0039\n",
            "Epsilon: 0.15\tTest Accuracy = 3 / 10000 = 0.0003\n",
            "Epsilon: 0.2\tTest Accuracy = 3 / 10000 = 0.0003\n",
            "Epsilon: 0.25\tTest Accuracy = 3 / 10000 = 0.0003\n",
            "Epsilon: 0.3\tTest Accuracy = 3 / 10000 = 0.0003\n",
            "Test iterative targeted\n",
            "Epsilon: 0\tTest Accuracy = 8806 / 10000 = 0.8806\n",
            "Epsilon: 0.05\tTest Accuracy = 1842 / 10000 = 0.1842\n",
            "Epsilon: 0.1\tTest Accuracy = 639 / 10000 = 0.0639\n",
            "Epsilon: 0.15\tTest Accuracy = 471 / 10000 = 0.0471\n",
            "Epsilon: 0.2\tTest Accuracy = 358 / 10000 = 0.0358\n",
            "Epsilon: 0.25\tTest Accuracy = 329 / 10000 = 0.0329\n",
            "Epsilon: 0.3\tTest Accuracy = 286 / 10000 = 0.0286\n",
            "Time: 5898.362233877182\n"
          ]
        }
      ]
    },
    {
      "cell_type": "code",
      "source": [
        "start = time.time()\n",
        "! python /gdrive/MyDrive/practical_deep_learning/project/original_experiments/attack.py --model vgg19 --dataset cifar10 --seed 7 --label speech --base_dir /gdrive/MyDrive/practical_deep_learning/project/outputs --label_dir /gdrive/MyDrive/practical_deep_learning/project/original_experiments/labels/label_files/\n",
        "end = time.time()\n",
        "print(\"Time:\", end-start)"
      ],
      "metadata": {
        "colab": {
          "base_uri": "https://localhost:8080/"
        },
        "id": "p1F9vFEsHmYH",
        "outputId": "099d818f-0f01-4921-a422-6c098a78b655"
      },
      "execution_count": 3,
      "outputs": [
        {
          "output_type": "stream",
          "name": "stdout",
          "text": [
            "Start attacking cifar10 speech model (kNN) with manual seed 7 and model vgg19.\n",
            "Best model location: /gdrive/MyDrive/practical_deep_learning/project/outputs/cifar10/seed7/vgg19/model_speech/speech_seed7_vgg19_best_model.pth.\n",
            "Attack results location: /gdrive/MyDrive/practical_deep_learning/project/outputs/cifar10/seed7/vgg19/model_speech/speech_seed7_vgg19_attack_results_NN.pth.\n",
            "Files already downloaded and verified\n",
            "Test FGSM untargeted\n",
            "Epsilon: 0\tTest Accuracy = 8459 / 10000 = 0.8459\n",
            "Epsilon: 0.05\tTest Accuracy = 4035 / 10000 = 0.4035\n",
            "Epsilon: 0.1\tTest Accuracy = 3134 / 10000 = 0.3134\n",
            "Epsilon: 0.15\tTest Accuracy = 2711 / 10000 = 0.2711\n",
            "Epsilon: 0.2\tTest Accuracy = 2373 / 10000 = 0.2373\n",
            "Epsilon: 0.25\tTest Accuracy = 2060 / 10000 = 0.206\n",
            "Epsilon: 0.3\tTest Accuracy = 1797 / 10000 = 0.1797\n",
            "Test FGSM targeted\n",
            "Epsilon: 0\tTest Accuracy = 8459 / 10000 = 0.8459\n",
            "Epsilon: 0.05\tTest Accuracy = 3982 / 10000 = 0.3982\n",
            "Epsilon: 0.1\tTest Accuracy = 2954 / 10000 = 0.2954\n",
            "Epsilon: 0.15\tTest Accuracy = 2437 / 10000 = 0.2437\n",
            "Epsilon: 0.2\tTest Accuracy = 2028 / 10000 = 0.2028\n",
            "Epsilon: 0.25\tTest Accuracy = 1678 / 10000 = 0.1678\n",
            "Epsilon: 0.3\tTest Accuracy = 1436 / 10000 = 0.1436\n",
            "Test iterative untargeted\n",
            "Epsilon: 0\tTest Accuracy = 8459 / 10000 = 0.8459\n",
            "Epsilon: 0.05\tTest Accuracy = 3040 / 10000 = 0.304\n",
            "Epsilon: 0.1\tTest Accuracy = 1940 / 10000 = 0.194\n",
            "Epsilon: 0.15\tTest Accuracy = 1591 / 10000 = 0.1591\n",
            "Epsilon: 0.2\tTest Accuracy = 1447 / 10000 = 0.1447\n",
            "Epsilon: 0.25\tTest Accuracy = 1355 / 10000 = 0.1355\n",
            "Epsilon: 0.3\tTest Accuracy = 1288 / 10000 = 0.1288\n",
            "Test iterative targeted\n",
            "Epsilon: 0\tTest Accuracy = 8459 / 10000 = 0.8459\n",
            "Epsilon: 0.05\tTest Accuracy = 4308 / 10000 = 0.4308\n",
            "Epsilon: 0.1\tTest Accuracy = 3107 / 10000 = 0.3107\n",
            "Epsilon: 0.15\tTest Accuracy = 2584 / 10000 = 0.2584\n",
            "Epsilon: 0.2\tTest Accuracy = 2265 / 10000 = 0.2265\n",
            "Epsilon: 0.25\tTest Accuracy = 2003 / 10000 = 0.2003\n",
            "Epsilon: 0.3\tTest Accuracy = 1760 / 10000 = 0.176\n",
            "Time: 7102.627930402756\n"
          ]
        }
      ]
    },
    {
      "cell_type": "code",
      "source": [
        "start = time.time()\n",
        "! python /gdrive/MyDrive/practical_deep_learning/project/original_experiments/attack.py --model vgg19 --dataset cifar10 --seed 7 --label shuffle --base_dir /gdrive/MyDrive/practical_deep_learning/project/outputs --label_dir /gdrive/MyDrive/practical_deep_learning/project/original_experiments/labels/label_files/\n",
        "end = time.time()\n",
        "print(\"Time:\", end-start)"
      ],
      "metadata": {
        "colab": {
          "base_uri": "https://localhost:8080/"
        },
        "id": "5GpkjfGHZw9A",
        "outputId": "cfc8d0fe-98be-4765-85a7-97160992e6a3"
      },
      "execution_count": 4,
      "outputs": [
        {
          "output_type": "stream",
          "name": "stdout",
          "text": [
            "Start attacking cifar10 shuffle model (kNN) with manual seed 7 and model vgg19.\n",
            "Best model location: /gdrive/MyDrive/practical_deep_learning/project/outputs/cifar10/seed7/vgg19/model_shuffle/shuffle_seed7_vgg19_best_model.pth.\n",
            "Attack results location: /gdrive/MyDrive/practical_deep_learning/project/outputs/cifar10/seed7/vgg19/model_shuffle/shuffle_seed7_vgg19_attack_results_NN.pth.\n",
            "Files already downloaded and verified\n",
            "Test FGSM untargeted\n",
            "Epsilon: 0\tTest Accuracy = 8584 / 10000 = 0.8584\n",
            "Epsilon: 0.05\tTest Accuracy = 5292 / 10000 = 0.5292\n",
            "Epsilon: 0.1\tTest Accuracy = 4562 / 10000 = 0.4562\n",
            "Epsilon: 0.15\tTest Accuracy = 4330 / 10000 = 0.433\n",
            "Epsilon: 0.2\tTest Accuracy = 4262 / 10000 = 0.4262\n",
            "Epsilon: 0.25\tTest Accuracy = 4165 / 10000 = 0.4165\n",
            "Epsilon: 0.3\tTest Accuracy = 4027 / 10000 = 0.4027\n",
            "Test FGSM targeted\n",
            "Epsilon: 0\tTest Accuracy = 8584 / 10000 = 0.8584\n",
            "Epsilon: 0.05\tTest Accuracy = 4230 / 10000 = 0.423\n",
            "Epsilon: 0.1\tTest Accuracy = 3248 / 10000 = 0.3248\n",
            "Epsilon: 0.15\tTest Accuracy = 2852 / 10000 = 0.2852\n",
            "Epsilon: 0.2\tTest Accuracy = 2676 / 10000 = 0.2676\n",
            "Epsilon: 0.25\tTest Accuracy = 2547 / 10000 = 0.2547\n",
            "Epsilon: 0.3\tTest Accuracy = 2413 / 10000 = 0.2413\n",
            "Test iterative untargeted\n",
            "Epsilon: 0\tTest Accuracy = 8584 / 10000 = 0.8584\n",
            "Epsilon: 0.05\tTest Accuracy = 4618 / 10000 = 0.4618\n",
            "Epsilon: 0.1\tTest Accuracy = 3725 / 10000 = 0.3725\n",
            "Epsilon: 0.15\tTest Accuracy = 3460 / 10000 = 0.346\n",
            "Epsilon: 0.2\tTest Accuracy = 3325 / 10000 = 0.3325\n",
            "Epsilon: 0.25\tTest Accuracy = 3207 / 10000 = 0.3207\n",
            "Epsilon: 0.3\tTest Accuracy = 3132 / 10000 = 0.3132\n",
            "Test iterative targeted\n",
            "Epsilon: 0\tTest Accuracy = 8584 / 10000 = 0.8584\n",
            "Epsilon: 0.05\tTest Accuracy = 4572 / 10000 = 0.4572\n",
            "Epsilon: 0.1\tTest Accuracy = 3372 / 10000 = 0.3372\n",
            "Epsilon: 0.15\tTest Accuracy = 2852 / 10000 = 0.2852\n",
            "Epsilon: 0.2\tTest Accuracy = 2554 / 10000 = 0.2554\n",
            "Epsilon: 0.25\tTest Accuracy = 2246 / 10000 = 0.2246\n",
            "Epsilon: 0.3\tTest Accuracy = 2161 / 10000 = 0.2161\n",
            "Time: 7380.040187597275\n"
          ]
        }
      ]
    },
    {
      "cell_type": "code",
      "source": [
        "start = time.time()\n",
        "! python /gdrive/MyDrive/practical_deep_learning/project/original_experiments/attack.py --model vgg19 --dataset cifar10 --seed 7 --label uniform --base_dir /gdrive/MyDrive/practical_deep_learning/project/outputs --label_dir /gdrive/MyDrive/practical_deep_learning/project/original_experiments/labels/label_files/\n",
        "end = time.time()\n",
        "print(\"Time:\", end-start)"
      ],
      "metadata": {
        "colab": {
          "base_uri": "https://localhost:8080/"
        },
        "id": "X1jSYdka0h27",
        "outputId": "252b05ae-e196-44c9-95ac-64d272e9b1cb"
      },
      "execution_count": 5,
      "outputs": [
        {
          "output_type": "stream",
          "name": "stdout",
          "text": [
            "Start attacking cifar10 uniform model (kNN) with manual seed 7 and model vgg19.\n",
            "Best model location: /gdrive/MyDrive/practical_deep_learning/project/outputs/cifar10/seed7/vgg19/model_uniform/uniform_seed7_vgg19_best_model.pth.\n",
            "Attack results location: /gdrive/MyDrive/practical_deep_learning/project/outputs/cifar10/seed7/vgg19/model_uniform/uniform_seed7_vgg19_attack_results_NN.pth.\n",
            "Files already downloaded and verified\n",
            "Traceback (most recent call last):\n",
            "  File \"/gdrive/MyDrive/practical_deep_learning/project/original_experiments/attack.py\", line 122, in <module>\n",
            "    model.load_state_dict(torch.load(best_model_path, map_location=torch.device(device)))\n",
            "  File \"/usr/local/lib/python3.7/dist-packages/torch/serialization.py\", line 699, in load\n",
            "    with _open_file_like(f, 'rb') as opened_file:\n",
            "  File \"/usr/local/lib/python3.7/dist-packages/torch/serialization.py\", line 231, in _open_file_like\n",
            "    return _open_file(name_or_buffer, mode)\n",
            "  File \"/usr/local/lib/python3.7/dist-packages/torch/serialization.py\", line 212, in __init__\n",
            "    super(_open_file, self).__init__(open(name, mode))\n",
            "FileNotFoundError: [Errno 2] No such file or directory: '/gdrive/MyDrive/practical_deep_learning/project/outputs/cifar10/seed7/vgg19/model_uniform/uniform_seed7_vgg19_best_model.pth'\n",
            "Time: 5.229763746261597\n"
          ]
        }
      ]
    },
    {
      "cell_type": "code",
      "source": [
        "start = time.time()\n",
        "! python /gdrive/MyDrive/practical_deep_learning/project/original_experiments/attack.py --model vgg19 --dataset cifar10 --seed 7 --label composite --base_dir /gdrive/MyDrive/practical_deep_learning/project/outputs --label_dir /gdrive/MyDrive/practical_deep_learning/project/original_experiments/labels/label_files/\n",
        "end = time.time()\n",
        "print(\"Time:\", end-start)"
      ],
      "metadata": {
        "colab": {
          "base_uri": "https://localhost:8080/"
        },
        "id": "AVqe6yrW0rQz",
        "outputId": "3a3242e9-2fc2-42a4-b730-6fcdeb974e70"
      },
      "execution_count": 6,
      "outputs": [
        {
          "output_type": "stream",
          "name": "stdout",
          "text": [
            "Start attacking cifar10 composite model (kNN) with manual seed 7 and model vgg19.\n",
            "Best model location: /gdrive/MyDrive/practical_deep_learning/project/outputs/cifar10/seed7/vgg19/model_composite/composite_seed7_vgg19_best_model.pth.\n",
            "Attack results location: /gdrive/MyDrive/practical_deep_learning/project/outputs/cifar10/seed7/vgg19/model_composite/composite_seed7_vgg19_attack_results_NN.pth.\n",
            "Files already downloaded and verified\n",
            "Test FGSM untargeted\n",
            "Epsilon: 0\tTest Accuracy = 8246 / 10000 = 0.8246\n",
            "Epsilon: 0.05\tTest Accuracy = 6431 / 10000 = 0.6431\n",
            "Epsilon: 0.1\tTest Accuracy = 6370 / 10000 = 0.637\n",
            "Epsilon: 0.15\tTest Accuracy = 6303 / 10000 = 0.6303\n",
            "Epsilon: 0.2\tTest Accuracy = 6061 / 10000 = 0.6061\n",
            "Epsilon: 0.25\tTest Accuracy = 5542 / 10000 = 0.5542\n",
            "Epsilon: 0.3\tTest Accuracy = 4936 / 10000 = 0.4936\n",
            "Test FGSM targeted\n",
            "Epsilon: 0\tTest Accuracy = 8246 / 10000 = 0.8246\n",
            "Epsilon: 0.05\tTest Accuracy = 2821 / 10000 = 0.2821\n",
            "Epsilon: 0.1\tTest Accuracy = 1182 / 10000 = 0.1182\n",
            "Epsilon: 0.15\tTest Accuracy = 717 / 10000 = 0.0717\n",
            "Epsilon: 0.2\tTest Accuracy = 624 / 10000 = 0.0624\n",
            "Epsilon: 0.25\tTest Accuracy = 591 / 10000 = 0.0591\n",
            "Epsilon: 0.3\tTest Accuracy = 604 / 10000 = 0.0604\n",
            "Test iterative untargeted\n",
            "Epsilon: 0\tTest Accuracy = 8246 / 10000 = 0.8246\n",
            "Epsilon: 0.05\tTest Accuracy = 6338 / 10000 = 0.6338\n",
            "Epsilon: 0.1\tTest Accuracy = 6291 / 10000 = 0.6291\n",
            "Epsilon: 0.15\tTest Accuracy = 6255 / 10000 = 0.6255\n",
            "Epsilon: 0.2\tTest Accuracy = 6232 / 10000 = 0.6232\n",
            "Epsilon: 0.25\tTest Accuracy = 6196 / 10000 = 0.6196\n",
            "Epsilon: 0.3\tTest Accuracy = 6172 / 10000 = 0.6172\n",
            "Test iterative targeted\n",
            "Epsilon: 0\tTest Accuracy = 8246 / 10000 = 0.8246\n",
            "Epsilon: 0.05\tTest Accuracy = 3582 / 10000 = 0.3582\n",
            "Epsilon: 0.1\tTest Accuracy = 2149 / 10000 = 0.2149\n",
            "Epsilon: 0.15\tTest Accuracy = 1803 / 10000 = 0.1803\n",
            "Epsilon: 0.2\tTest Accuracy = 1517 / 10000 = 0.1517\n",
            "Epsilon: 0.25\tTest Accuracy = 1317 / 10000 = 0.1317\n",
            "Epsilon: 0.3\tTest Accuracy = 1195 / 10000 = 0.1195\n",
            "Time: 6847.369176149368\n"
          ]
        }
      ]
    },
    {
      "cell_type": "code",
      "source": [
        "start = time.time()\n",
        "! python /gdrive/MyDrive/practical_deep_learning/project/original_experiments/attack.py --model vgg19 --dataset cifar10 --seed 7 --label bert --base_dir /gdrive/MyDrive/practical_deep_learning/project/outputs --label_dir /gdrive/MyDrive/practical_deep_learning/project/original_experiments/labels/label_files/\n",
        "end = time.time()\n",
        "print(\"Time:\", end-start)"
      ],
      "metadata": {
        "colab": {
          "base_uri": "https://localhost:8080/"
        },
        "id": "w6dlhamV0vK-",
        "outputId": "c3a0e9fd-c134-44bf-bc59-bd386668cbc9"
      },
      "execution_count": null,
      "outputs": [
        {
          "output_type": "stream",
          "name": "stdout",
          "text": [
            "Start attacking cifar10 bert model (kNN) with manual seed 7 and model vgg19.\n",
            "Best model location: /gdrive/MyDrive/practical_deep_learning/project/outputs/cifar10/seed7/vgg19/model_bert/bert_seed7_vgg19_best_model.pth.\n",
            "Attack results location: /gdrive/MyDrive/practical_deep_learning/project/outputs/cifar10/seed7/vgg19/model_bert/bert_seed7_vgg19_attack_results_NN.pth.\n",
            "Files already downloaded and verified\n",
            "Test FGSM untargeted\n",
            "Epsilon: 0\tTest Accuracy = 8866 / 10000 = 0.8866\n",
            "Epsilon: 0.05\tTest Accuracy = 5164 / 10000 = 0.5164\n",
            "Epsilon: 0.1\tTest Accuracy = 4591 / 10000 = 0.4591\n",
            "Epsilon: 0.15\tTest Accuracy = 4349 / 10000 = 0.4349\n",
            "Epsilon: 0.2\tTest Accuracy = 4102 / 10000 = 0.4102\n",
            "Epsilon: 0.25\tTest Accuracy = 3793 / 10000 = 0.3793\n",
            "Epsilon: 0.3\tTest Accuracy = 3361 / 10000 = 0.3361\n",
            "Test FGSM targeted\n",
            "Epsilon: 0\tTest Accuracy = 8866 / 10000 = 0.8866\n",
            "Epsilon: 0.05\tTest Accuracy = 4293 / 10000 = 0.4293\n",
            "Epsilon: 0.1\tTest Accuracy = 3174 / 10000 = 0.3174\n",
            "Epsilon: 0.15\tTest Accuracy = 2747 / 10000 = 0.2747\n",
            "Epsilon: 0.2\tTest Accuracy = 2554 / 10000 = 0.2554\n",
            "Epsilon: 0.25\tTest Accuracy = 2368 / 10000 = 0.2368\n",
            "Epsilon: 0.3\tTest Accuracy = 2153 / 10000 = 0.2153\n",
            "Test iterative untargeted\n",
            "Epsilon: 0\tTest Accuracy = 8866 / 10000 = 0.8866\n",
            "Epsilon: 0.05\tTest Accuracy = 4083 / 10000 = 0.4083\n"
          ]
        }
      ]
    },
    {
      "cell_type": "code",
      "source": [
        "start = time.time()\n",
        "! python /gdrive/MyDrive/practical_deep_learning/project/original_experiments/attack.py --model vgg19 --dataset cifar10 --seed 7 --label random --base_dir /gdrive/MyDrive/practical_deep_learning/project/outputs --label_dir /gdrive/MyDrive/practical_deep_learning/project/original_experiments/labels/label_files/\n",
        "end = time.time()\n",
        "print(\"Time:\", end-start)"
      ],
      "metadata": {
        "id": "lyGQ5wq902rC"
      },
      "execution_count": null,
      "outputs": []
    }
  ]
}