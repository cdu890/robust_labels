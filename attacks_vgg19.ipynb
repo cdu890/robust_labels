{
  "nbformat": 4,
  "nbformat_minor": 0,
  "metadata": {
    "colab": {
      "name": "attacks_vgg19.ipynb",
      "provenance": [],
      "machine_shape": "hm"
    },
    "kernelspec": {
      "name": "python3",
      "display_name": "Python 3"
    },
    "language_info": {
      "name": "python"
    },
    "accelerator": "GPU"
  },
  "cells": [
    {
      "cell_type": "markdown",
      "source": [
        "# Attacks (FGSM and Iterative)\n",
        "\n",
        "This notebook has code to generate and test performance on FGSM and iterative attacks for categorical and high-dimentional labels"
      ],
      "metadata": {
        "id": "Jqx7Df4el6G5"
      }
    },
    {
      "cell_type": "code",
      "source": [
        "import os\n",
        "import time\n",
        "from google.colab import drive\n",
        "\n",
        "drive.mount('/gdrive')"
      ],
      "metadata": {
        "colab": {
          "base_uri": "https://localhost:8080/"
        },
        "id": "0MAi9urxmbio",
        "outputId": "7a36ffad-1683-499f-c84c-c9e3212dfb41"
      },
      "execution_count": 1,
      "outputs": [
        {
          "output_type": "stream",
          "name": "stdout",
          "text": [
            "Mounted at /gdrive\n"
          ]
        }
      ]
    },
    {
      "cell_type": "markdown",
      "source": [
        "## Categorical Labels\n",
        "\n",
        "The following attacks are performed for categorical labels:\n",
        "\n",
        "- FGSM untargeted\n",
        "- FGSM targeted\n",
        "- Test iterative untargeted\n",
        "- Test iterative targeted"
      ],
      "metadata": {
        "id": "bmZzEKJPmNjO"
      }
    },
    {
      "cell_type": "code",
      "source": [
        "start = time.time()\n",
        "! python /gdrive/MyDrive/practical_deep_learning/project/original_experiments/attack.py --model vgg19 --dataset cifar10 --seed 7 --label category --base_dir /gdrive/MyDrive/practical_deep_learning/project/outputs --label_dir /gdrive/MyDrive/practical_deep_learning/project/original_experiments/labels/label_files/\n",
        "end = time.time()\n",
        "print(\"Time:\", end-start)"
      ],
      "metadata": {
        "colab": {
          "base_uri": "https://localhost:8080/"
        },
        "id": "MP5h4tPDmKWc",
        "outputId": "083d1dfa-6b8e-4dac-c807-1b8195b113f2"
      },
      "execution_count": null,
      "outputs": [
        {
          "output_type": "stream",
          "name": "stdout",
          "text": [
            "Start attacking cifar10 category model (kNN) with manual seed 7 and model vgg19.\n",
            "Best model location: /gdrive/MyDrive/practical_deep_learning/project/outputs/cifar10/seed7/vgg19/model_category/category_seed7_vgg19_best_model.pth.\n",
            "Attack results location: /gdrive/MyDrive/practical_deep_learning/project/outputs/cifar10/seed7/vgg19/model_category/category_seed7_vgg19_attack_results_NN.pth.\n",
            "Downloading https://www.cs.toronto.edu/~kriz/cifar-10-python.tar.gz to ./data/cifar-10-python.tar.gz\n",
            "170499072it [00:03, 49275721.06it/s]                   \n",
            "Extracting ./data/cifar-10-python.tar.gz to ./data\n",
            "Test FGSM untargeted\n"
          ]
        }
      ]
    }
  ]
}